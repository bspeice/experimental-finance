{
 "cells": [
  {
   "cell_type": "code",
   "execution_count": 1,
   "metadata": {
    "collapsed": true
   },
   "outputs": [],
   "source": [
    "import sys\n",
    "sys.path.append('../utils/')\n",
    "\n",
    "from query import query_dataframe_f, pprint_query, nbprint_and_query\n",
    "use_latex = False"
   ]
  },
  {
   "cell_type": "markdown",
   "metadata": {},
   "source": [
    "# Question 4"
   ]
  },
  {
   "cell_type": "code",
   "execution_count": 2,
   "metadata": {
    "collapsed": false
   },
   "outputs": [
    {
     "data": {
      "text/html": [
       "<style type=\"text/css\">.highlight .hll { background-color: #ffffcc }\n",
       ".highlight  { background: #f8f8f8; }\n",
       ".highlight .c { color: #408080; font-style: italic } /* Comment */\n",
       ".highlight .err { border: 1px solid #FF0000 } /* Error */\n",
       ".highlight .k { color: #008000; font-weight: bold } /* Keyword */\n",
       ".highlight .o { color: #666666 } /* Operator */\n",
       ".highlight .ch { color: #408080; font-style: italic } /* Comment.Hashbang */\n",
       ".highlight .cm { color: #408080; font-style: italic } /* Comment.Multiline */\n",
       ".highlight .cp { color: #BC7A00 } /* Comment.Preproc */\n",
       ".highlight .cpf { color: #408080; font-style: italic } /* Comment.PreprocFile */\n",
       ".highlight .c1 { color: #408080; font-style: italic } /* Comment.Single */\n",
       ".highlight .cs { color: #408080; font-style: italic } /* Comment.Special */\n",
       ".highlight .gd { color: #A00000 } /* Generic.Deleted */\n",
       ".highlight .ge { font-style: italic } /* Generic.Emph */\n",
       ".highlight .gr { color: #FF0000 } /* Generic.Error */\n",
       ".highlight .gh { color: #000080; font-weight: bold } /* Generic.Heading */\n",
       ".highlight .gi { color: #00A000 } /* Generic.Inserted */\n",
       ".highlight .go { color: #888888 } /* Generic.Output */\n",
       ".highlight .gp { color: #000080; font-weight: bold } /* Generic.Prompt */\n",
       ".highlight .gs { font-weight: bold } /* Generic.Strong */\n",
       ".highlight .gu { color: #800080; font-weight: bold } /* Generic.Subheading */\n",
       ".highlight .gt { color: #0044DD } /* Generic.Traceback */\n",
       ".highlight .kc { color: #008000; font-weight: bold } /* Keyword.Constant */\n",
       ".highlight .kd { color: #008000; font-weight: bold } /* Keyword.Declaration */\n",
       ".highlight .kn { color: #008000; font-weight: bold } /* Keyword.Namespace */\n",
       ".highlight .kp { color: #008000 } /* Keyword.Pseudo */\n",
       ".highlight .kr { color: #008000; font-weight: bold } /* Keyword.Reserved */\n",
       ".highlight .kt { color: #B00040 } /* Keyword.Type */\n",
       ".highlight .m { color: #666666 } /* Literal.Number */\n",
       ".highlight .s { color: #BA2121 } /* Literal.String */\n",
       ".highlight .na { color: #7D9029 } /* Name.Attribute */\n",
       ".highlight .nb { color: #008000 } /* Name.Builtin */\n",
       ".highlight .nc { color: #0000FF; font-weight: bold } /* Name.Class */\n",
       ".highlight .no { color: #880000 } /* Name.Constant */\n",
       ".highlight .nd { color: #AA22FF } /* Name.Decorator */\n",
       ".highlight .ni { color: #999999; font-weight: bold } /* Name.Entity */\n",
       ".highlight .ne { color: #D2413A; font-weight: bold } /* Name.Exception */\n",
       ".highlight .nf { color: #0000FF } /* Name.Function */\n",
       ".highlight .nl { color: #A0A000 } /* Name.Label */\n",
       ".highlight .nn { color: #0000FF; font-weight: bold } /* Name.Namespace */\n",
       ".highlight .nt { color: #008000; font-weight: bold } /* Name.Tag */\n",
       ".highlight .nv { color: #19177C } /* Name.Variable */\n",
       ".highlight .ow { color: #AA22FF; font-weight: bold } /* Operator.Word */\n",
       ".highlight .w { color: #bbbbbb } /* Text.Whitespace */\n",
       ".highlight .mb { color: #666666 } /* Literal.Number.Bin */\n",
       ".highlight .mf { color: #666666 } /* Literal.Number.Float */\n",
       ".highlight .mh { color: #666666 } /* Literal.Number.Hex */\n",
       ".highlight .mi { color: #666666 } /* Literal.Number.Integer */\n",
       ".highlight .mo { color: #666666 } /* Literal.Number.Oct */\n",
       ".highlight .sb { color: #BA2121 } /* Literal.String.Backtick */\n",
       ".highlight .sc { color: #BA2121 } /* Literal.String.Char */\n",
       ".highlight .sd { color: #BA2121; font-style: italic } /* Literal.String.Doc */\n",
       ".highlight .s2 { color: #BA2121 } /* Literal.String.Double */\n",
       ".highlight .se { color: #BB6622; font-weight: bold } /* Literal.String.Escape */\n",
       ".highlight .sh { color: #BA2121 } /* Literal.String.Heredoc */\n",
       ".highlight .si { color: #BB6688; font-weight: bold } /* Literal.String.Interpol */\n",
       ".highlight .sx { color: #008000 } /* Literal.String.Other */\n",
       ".highlight .sr { color: #BB6688 } /* Literal.String.Regex */\n",
       ".highlight .s1 { color: #BA2121 } /* Literal.String.Single */\n",
       ".highlight .ss { color: #19177C } /* Literal.String.Symbol */\n",
       ".highlight .bp { color: #008000 } /* Name.Builtin.Pseudo */\n",
       ".highlight .vc { color: #19177C } /* Name.Variable.Class */\n",
       ".highlight .vg { color: #19177C } /* Name.Variable.Global */\n",
       ".highlight .vi { color: #19177C } /* Name.Variable.Instance */\n",
       ".highlight .il { color: #666666 } /* Literal.Number.Integer.Long */</style><div class=\"highlight\"><pre><span></span><span class=\"cm\">/*</span>\n",
       "<span class=\"cm\">When running this query, we pull out more data than is actually needed. PPN use +/- 10</span>\n",
       "<span class=\"cm\">days&#39; worth of data, and we will do the same eventually. First though, because SQL</span>\n",
       "<span class=\"cm\">isn&#39;t aware of holidays, we actually pull out 20 days&#39; +/- the expiration to give</span>\n",
       "<span class=\"cm\">ourselves a buffer during processing. It&#39;s much easier to handle trading day logic</span>\n",
       "<span class=\"cm\">in Python than it is in SQL calculating trading day differences.</span>\n",
       "<span class=\"cm\"> */</span>\n",
       "\n",
       "<span class=\"k\">SELECT</span>\n",
       "  <span class=\"n\">s</span><span class=\"p\">.</span><span class=\"n\">Ticker</span><span class=\"p\">,</span>\n",
       "  <span class=\"n\">sp</span><span class=\"p\">.</span><span class=\"n\">ClosePrice</span><span class=\"p\">,</span>\n",
       "  <span class=\"n\">sp</span><span class=\"p\">.</span><span class=\"nb\">Date</span><span class=\"p\">,</span>\n",
       "  <span class=\"n\">op</span><span class=\"p\">.</span><span class=\"n\">Strike</span><span class=\"p\">,</span>\n",
       "  <span class=\"n\">op</span><span class=\"p\">.</span><span class=\"n\">Expiration</span><span class=\"p\">,</span>\n",
       "  <span class=\"k\">ABS</span><span class=\"p\">(</span><span class=\"n\">sp</span><span class=\"p\">.</span><span class=\"n\">ClosePrice</span> <span class=\"o\">-</span> <span class=\"n\">XF</span><span class=\"p\">.</span><span class=\"n\">dbo</span><span class=\"p\">.</span><span class=\"n\">formatStrike</span><span class=\"p\">(</span><span class=\"n\">op</span><span class=\"p\">.</span><span class=\"n\">Strike</span><span class=\"p\">))</span> <span class=\"k\">AS</span> <span class=\"n\">StrikeDiff</span>\n",
       "<span class=\"k\">FROM</span> <span class=\"n\">XFDATA</span><span class=\"p\">.</span><span class=\"n\">dbo</span><span class=\"p\">.</span><span class=\"n\">OPTION_PRICE_VIEW</span> <span class=\"n\">op</span>\n",
       "  <span class=\"k\">INNER</span> <span class=\"k\">JOIN</span> <span class=\"n\">XFDATA</span><span class=\"p\">.</span><span class=\"n\">dbo</span><span class=\"p\">.</span><span class=\"n\">SECURITY_PRICE</span> <span class=\"n\">sp</span> <span class=\"k\">ON</span> <span class=\"n\">op</span><span class=\"p\">.</span><span class=\"n\">SecurityID</span> <span class=\"o\">=</span> <span class=\"n\">sp</span><span class=\"p\">.</span><span class=\"n\">SecurityID</span>\n",
       "                                             <span class=\"k\">AND</span> <span class=\"k\">ABS</span><span class=\"p\">(</span><span class=\"n\">DATEDIFF</span><span class=\"p\">(</span><span class=\"k\">DAY</span><span class=\"p\">,</span> <span class=\"n\">op</span><span class=\"p\">.</span><span class=\"n\">Expiration</span><span class=\"p\">,</span> <span class=\"n\">sp</span><span class=\"p\">.</span><span class=\"nb\">Date</span><span class=\"p\">))</span> <span class=\"o\">&lt;</span> <span class=\"mi\">20</span>\n",
       "  <span class=\"k\">INNER</span> <span class=\"k\">JOIN</span> <span class=\"n\">XFDATA</span><span class=\"p\">.</span><span class=\"n\">dbo</span><span class=\"p\">.</span><span class=\"k\">SECURITY</span> <span class=\"n\">s</span> <span class=\"k\">ON</span> <span class=\"n\">sp</span><span class=\"p\">.</span><span class=\"n\">SecurityID</span> <span class=\"o\">=</span> <span class=\"n\">s</span><span class=\"p\">.</span><span class=\"n\">SecurityID</span>\n",
       "<span class=\"k\">WHERE</span> <span class=\"n\">op</span><span class=\"p\">.</span><span class=\"n\">Expiration</span> <span class=\"k\">BETWEEN</span> <span class=\"s1\">&#39;2010-01-01&#39;</span> <span class=\"k\">AND</span> <span class=\"s1\">&#39;2014-01-01&#39;</span>\n",
       "      <span class=\"k\">AND</span> <span class=\"n\">sp</span><span class=\"p\">.</span><span class=\"nb\">Date</span> <span class=\"k\">BETWEEN</span> <span class=\"s1\">&#39;2009-12-01&#39;</span> <span class=\"k\">AND</span> <span class=\"s1\">&#39;2014-02-01&#39;</span> <span class=\"c1\">-- Stock price buffer</span>\n",
       "      <span class=\"k\">AND</span> <span class=\"n\">s</span><span class=\"p\">.</span><span class=\"n\">Ticker</span> <span class=\"k\">IN</span> <span class=\"p\">(</span><span class=\"s1\">&#39;GLD&#39;</span><span class=\"p\">,</span> <span class=\"s1\">&#39;USO&#39;</span><span class=\"p\">,</span> <span class=\"s1\">&#39;COW&#39;</span><span class=\"p\">)</span>\n",
       "  <span class=\"c1\">-- Won&#39;t filter out *exactly* to ATM, but will filter out most of</span>\n",
       "  <span class=\"c1\">-- the egregiously ITM or OTM options</span>\n",
       "  <span class=\"k\">AND</span> <span class=\"k\">ABS</span><span class=\"p\">(</span><span class=\"n\">sp</span><span class=\"p\">.</span><span class=\"n\">ClosePrice</span> <span class=\"o\">-</span> <span class=\"n\">XF</span><span class=\"p\">.</span><span class=\"n\">dbo</span><span class=\"p\">.</span><span class=\"n\">formatStrike</span><span class=\"p\">(</span><span class=\"n\">op</span><span class=\"p\">.</span><span class=\"n\">Strike</span><span class=\"p\">))</span> <span class=\"o\">&lt;</span> <span class=\"mi\">5</span><span class=\"p\">.</span><span class=\"mi\">0</span>\n",
       "\n",
       "\n",
       "<span class=\"c1\">-- Massive GROUP BY clause cuts down on duplicate data we don&#39;t</span>\n",
       "<span class=\"c1\">-- need that is introduced by other parameters being unique</span>\n",
       "<span class=\"k\">GROUP</span> <span class=\"k\">BY</span>\n",
       "  <span class=\"n\">s</span><span class=\"p\">.</span><span class=\"n\">Ticker</span><span class=\"p\">,</span>\n",
       "  <span class=\"n\">sp</span><span class=\"p\">.</span><span class=\"n\">ClosePrice</span><span class=\"p\">,</span>\n",
       "  <span class=\"n\">sp</span><span class=\"p\">.</span><span class=\"n\">Volume</span><span class=\"p\">,</span>\n",
       "  <span class=\"n\">sp</span><span class=\"p\">.</span><span class=\"nb\">Date</span><span class=\"p\">,</span>\n",
       "  <span class=\"n\">op</span><span class=\"p\">.</span><span class=\"n\">Strike</span><span class=\"p\">,</span>\n",
       "  <span class=\"n\">op</span><span class=\"p\">.</span><span class=\"n\">Expiration</span>\n",
       "</pre></div>\n"
      ],
      "text/plain": [
       "<IPython.core.display.HTML object>"
      ]
     },
     "metadata": {},
     "output_type": "display_data"
    }
   ],
   "source": [
    "q4_data = nbprint_and_query('Q4.sql')\n",
    "q4_data.to_csv('q4_data.csv')"
   ]
  },
  {
   "cell_type": "code",
   "execution_count": 3,
   "metadata": {
    "collapsed": false
   },
   "outputs": [
    {
     "name": "stderr",
     "output_type": "stream",
     "text": [
      "/usr/lib/python3/dist-packages/pandas/tseries/index.py:755: PerformanceWarning: Non-vectorized DateOffset being applied to Series or DatetimeIndex\n",
      "  PerformanceWarning)\n"
     ]
    }
   ],
   "source": [
    "import pandas as pd\n",
    "from datetime import datetime, timedelta\n",
    "\n",
    "from trading_days import TradingDay\n",
    "\n",
    "# Code run before this to retrieve data:\n",
    "#q2a_data = nbprint_and_query('Q2a.sql')\n",
    "#q2a_data.to_csv('q2a_data.csv')\n",
    "\n",
    "q4_data = pd.read_csv('q4_data.csv',\n",
    "                      parse_dates=['Date', 'Expiration'],\n",
    "                      index_col=0)\n",
    "q4_data['AdjStrike'] = q4_data['Strike'] / 1000.\n",
    "# Expirations in IVY are on Saturdays, we need to compensate\n",
    "#to the most recent trading day.\n",
    "q4_data['ActualExpiration'] = q4_data['Expiration'] - TradingDay(1)"
   ]
  },
  {
   "cell_type": "code",
   "execution_count": 4,
   "metadata": {
    "collapsed": false
   },
   "outputs": [
    {
     "data": {
      "text/html": [
       "<div>\n",
       "<table border=\"1\" class=\"dataframe\">\n",
       "  <thead>\n",
       "    <tr style=\"text-align: right;\">\n",
       "      <th></th>\n",
       "      <th>Ticker</th>\n",
       "      <th>ClosePrice</th>\n",
       "      <th>Date</th>\n",
       "      <th>Strike</th>\n",
       "      <th>Expiration</th>\n",
       "      <th>StrikeDiff</th>\n",
       "      <th>AdjStrike</th>\n",
       "      <th>ActualExpiration</th>\n",
       "    </tr>\n",
       "  </thead>\n",
       "  <tbody>\n",
       "    <tr>\n",
       "      <th>0</th>\n",
       "      <td>GLD</td>\n",
       "      <td>146.539993</td>\n",
       "      <td>2011-05-11</td>\n",
       "      <td>150000</td>\n",
       "      <td>2011-05-21</td>\n",
       "      <td>3.460007</td>\n",
       "      <td>150</td>\n",
       "      <td>2011-05-20</td>\n",
       "    </tr>\n",
       "    <tr>\n",
       "      <th>1</th>\n",
       "      <td>GLD</td>\n",
       "      <td>158.348007</td>\n",
       "      <td>2013-02-14</td>\n",
       "      <td>161000</td>\n",
       "      <td>2013-02-01</td>\n",
       "      <td>2.651993</td>\n",
       "      <td>161</td>\n",
       "      <td>2013-01-31</td>\n",
       "    </tr>\n",
       "    <tr>\n",
       "      <th>2</th>\n",
       "      <td>GLD</td>\n",
       "      <td>163.089996</td>\n",
       "      <td>2013-01-18</td>\n",
       "      <td>162000</td>\n",
       "      <td>2013-01-25</td>\n",
       "      <td>1.089996</td>\n",
       "      <td>162</td>\n",
       "      <td>2013-01-24</td>\n",
       "    </tr>\n",
       "    <tr>\n",
       "      <th>3</th>\n",
       "      <td>USO</td>\n",
       "      <td>30.698999</td>\n",
       "      <td>2012-06-11</td>\n",
       "      <td>35000</td>\n",
       "      <td>2012-06-01</td>\n",
       "      <td>4.301001</td>\n",
       "      <td>35</td>\n",
       "      <td>2012-05-31</td>\n",
       "    </tr>\n",
       "    <tr>\n",
       "      <th>4</th>\n",
       "      <td>USO</td>\n",
       "      <td>38.180000</td>\n",
       "      <td>2011-02-02</td>\n",
       "      <td>38000</td>\n",
       "      <td>2011-01-28</td>\n",
       "      <td>0.180000</td>\n",
       "      <td>38</td>\n",
       "      <td>2011-01-27</td>\n",
       "    </tr>\n",
       "  </tbody>\n",
       "</table>\n",
       "</div>"
      ],
      "text/plain": [
       "   Ticker  ClosePrice       Date  Strike Expiration  StrikeDiff  AdjStrike  \\\n",
       "0  GLD     146.539993 2011-05-11  150000 2011-05-21    3.460007        150   \n",
       "1  GLD     158.348007 2013-02-14  161000 2013-02-01    2.651993        161   \n",
       "2  GLD     163.089996 2013-01-18  162000 2013-01-25    1.089996        162   \n",
       "3  USO      30.698999 2012-06-11   35000 2012-06-01    4.301001         35   \n",
       "4  USO      38.180000 2011-02-02   38000 2011-01-28    0.180000         38   \n",
       "\n",
       "  ActualExpiration  \n",
       "0       2011-05-20  \n",
       "1       2013-01-31  \n",
       "2       2013-01-24  \n",
       "3       2012-05-31  \n",
       "4       2011-01-27  "
      ]
     },
     "execution_count": 4,
     "metadata": {},
     "output_type": "execute_result"
    }
   ],
   "source": [
    "from datetime import datetime, timedelta\n",
    "from itertools import chain\n",
    "# Now, we've actually retrieved too much data.\n",
    "# We first want to filter down to things that are\n",
    "# actually +/- 10 trading days of an expiration.\n",
    "# First, get all trading days, then build out all possible\n",
    "# days, then filter where date is in that list of possible days.\n",
    "def flatmap(f, items):\n",
    "    return list(chain.from_iterable(map(f, items)))\n",
    "\n",
    "def trading_window(date):\n",
    "    n = 10\n",
    "    starting_date = -TradingDay(n+1) + date\n",
    "    return [starting_date + TradingDay(i)\n",
    "            for i in range(n*2+1)]\n",
    "\n",
    "trading_days = flatmap(trading_window,\n",
    "                       q4_data['ActualExpiration'].unique())\n",
    "\n",
    "q4_valid_data = q4_data[q4_data['Date'].isin(trading_days)]\n",
    "q4_valid_data.head()"
   ]
  },
  {
   "cell_type": "code",
   "execution_count": 5,
   "metadata": {
    "collapsed": false
   },
   "outputs": [],
   "source": [
    "# Now comes the fun part. Currently we have all strikes,\n",
    "# and we essentially want to filter this down to only ATM strikes.\n",
    "from datetime import timedelta\n",
    "def find_atm_strike(df):\n",
    "    # Expiration is marked as a Saturday in Ivy, so we need to \n",
    "    prices = df[df['ActualExpiration'] == df['Date']]\n",
    "    prices['Diff'] = (prices['AdjStrike'] -\n",
    "                      prices['ClosePrice']).abs()\n",
    "    # And get the strike with minimum difference from close\n",
    "    # We first sort ordering smallest difference first, get the first row\n",
    "    # (i.e. minimum) and then its actual value\n",
    "    try:\n",
    "        atm_strike = (prices.sort_values('Diff')\n",
    "                      .head(1)['AdjStrike'].values[0])\n",
    "    except IndexError:\n",
    "        atm_strike = 0\n",
    "        \n",
    "    return atm_strike\n",
    "\n",
    "def filter_atm(df):\n",
    "    return df[df['AdjStrike'] == find_atm_strike(df)]\n",
    "\n",
    "q4_groups = q4_valid_data.groupby(['ActualExpiration', 'Ticker'])\n",
    "q4_atm = q4_groups.apply(filter_atm)\n",
    "\n",
    "q4_atm.reset_index(drop=True, inplace=True)"
   ]
  },
  {
   "cell_type": "code",
   "execution_count": 6,
   "metadata": {
    "collapsed": false
   },
   "outputs": [],
   "source": [
    "def bus_days_between(start, end):\n",
    "    if start.date() == end.date():\n",
    "        return 0\n",
    "    elif start < end:\n",
    "        return len(pd.date_range(start=start.date(),\n",
    "                                 end=end.date(),\n",
    "                                 closed='left',\n",
    "                                 freq=TradingDay(1)))\n",
    "    else:\n",
    "        return -len(pd.date_range(start=end.date(),\n",
    "                                  end=start.date(),\n",
    "                                  closed='left',\n",
    "                                  freq=TradingDay(1)))\n",
    "    \n",
    "q4_atm['DeltaExpiration'] = q4_atm.apply(\n",
    "    lambda r: bus_days_between(r.Date, r.ActualExpiration),\n",
    "    1)"
   ]
  },
  {
   "cell_type": "code",
   "execution_count": 7,
   "metadata": {
    "collapsed": false
   },
   "outputs": [],
   "source": [
    "import numpy as np\n",
    "\n",
    "def did_pin(group):\n",
    "    group['Pinned'] = np.abs(group['ClosePrice'] -\n",
    "                             group['AdjStrike']) < .125\n",
    "    return group\n",
    "\n",
    "q4_pinned = q4_atm.groupby(['Ticker',\n",
    "                            'ActualExpiration']).apply(did_pin)\n",
    "q4_pinned.to_csv('q4_pinned.csv')"
   ]
  },
  {
   "cell_type": "code",
   "execution_count": 8,
   "metadata": {
    "collapsed": false
   },
   "outputs": [
    {
     "data": {
      "image/png": "[encoded data removed]",
      "text/plain": [
       "<matplotlib.figure.Figure at 0x7f55a9207710>"
      ]
     },
     "metadata": {},
     "output_type": "display_data"
    },
    {
     "data": {
      "image/png": "[encoded data removed]",
      "text/plain": [
       "<matplotlib.figure.Figure at 0x7f55a7696080>"
      ]
     },
     "metadata": {},
     "output_type": "display_data"
    },
    {
     "data": {
      "image/png": "[encoded data removed]",
      "text/plain": [
       "<matplotlib.figure.Figure at 0x7f55a5318eb8>"
      ]
     },
     "metadata": {},
     "output_type": "display_data"
    }
   ],
   "source": [
    "import matplotlib.pyplot as plt\n",
    "%matplotlib inline\n",
    "for ticker in q4_pinned['Ticker'].unique():\n",
    "    plt.figure()\n",
    "    plt.title(ticker)\n",
    "    plt.gcf().set_size_inches(12, 6)\n",
    "    (q4_pinned[q4_pinned['Ticker'] == ticker]\n",
    "     .groupby(['DeltaExpiration']).mean()['Pinned']\n",
    "     .plot(kind='bar'))"
   ]
  }
 ],
 "metadata": {
  "anaconda-cloud": {},
  "kernelspec": {
   "display_name": "Python 3",
   "language": "python",
   "name": "python3"
  },
  "language_info": {
   "codemirror_mode": {
    "name": "ipython",
    "version": 3
   },
   "file_extension": ".py",
   "mimetype": "text/x-python",
   "name": "python",
   "nbconvert_exporter": "python",
   "pygments_lexer": "ipython3",
   "version": "3.5.2"
  }
 },
 "nbformat": 4,
 "nbformat_minor": 0
}
