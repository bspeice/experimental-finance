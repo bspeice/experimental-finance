{
 "cells": [
  {
   "cell_type": "markdown",
   "metadata": {},
   "source": [
    "# Earnings Open Interest Shift Trading\n",
    "\n",
    "Our goal is to trade earnings announcements using a couple different indicators with the assumption as follows: The options markets are more sophisticated than the equity markets are, and are able to understand news better. Thus, we want to develop a signal as follows:\n",
    "\n",
    "> We find that option traders’ information processing ability stems primarily from\n",
    "> their ability to identify underreaction to news: their trades on news days are only\n",
    "> informative about future stock prices when they buy call options on stocks that have\n",
    "> experienced positive news events and when they buy put options on stocks that have\n",
    "> experienced negative news events, while otherwise their trades are on average uninformative.\n",
    "> \n",
    "> -[M. Cremers, A.Fodor, D. Weinbaum][1]\n",
    "\n",
    "We have pulled earnings surprise data from [StreetInsider.com](http://www.streetinsider.com/), and thus\n",
    "can determine ahead of time whether earnings were \"positive\" or \"negative\" news by their surprises.\n",
    "We will test logic to determine how \"positive\" or \"negative\" these surprises are; we expect that many\n",
    "will have very small surprises and thus be a neutral event overall. We do not want to trade these events.\n",
    "\n",
    "Additionally, we need to define a proxy for what it means to \"buy call options\" or \"buy put options.\"\n",
    "We use as a proxy for buying pressure in one direction or the other the Open Interest of an option.\n",
    "For example, if we see that call open interest increases while put open interest decreases, we\n",
    "determine that this is \"buying call option\" behavior.\n",
    "\n",
    "[1]: http://optionmetrics.com/m-cremers-a-fodor-d-weinbaum-where-do-informed-traders-trade-first-option-trading-activity-news-releases-and-stock-return-predictability-working-paper-series/"
   ]
  },
  {
   "cell_type": "code",
   "execution_count": 2,
   "metadata": {
    "collapsed": true
   },
   "outputs": [],
   "source": [
    "import sys\n",
    "sys.path.append('../../utils/')\n",
    "\n",
    "from query import get_connection\n",
    "from trading_days import TradingDay\n",
    "\n",
    "date_format = '%Y-%m-%d'"
   ]
  },
  {
   "cell_type": "markdown",
   "metadata": {},
   "source": [
    "We have previously gotten a list of earnings dates for stocks in Russell 3000. We will be looking at earnings data for the top 50 and middle 50 companies by market capitalization."
   ]
  },
  {
   "cell_type": "code",
   "execution_count": null,
   "metadata": {
    "collapsed": false
   },
   "outputs": [],
   "source": [
    "import pandas as pd\n",
    "import numpy as np\n",
    "earnings_dates = pd.read_csv('all_earnings.csv', index_col=0)\n",
    "earnings_dates['NormDate'] = pd.to_datetime(\n",
    "    earnings_dates['NormDate'],\n",
    "    format='%Y-%m-%d',\n",
    "    errors='coerce'\n",
    ")\n",
    "tickers = earnings_dates['Ticker'].unique()\n",
    "top_50 = tickers[0:50]\n",
    "\n",
    "tick_len = len(tickers)\n",
    "mid_50 = tickers[tick_len//2:tick_len//2+50]\n",
    "\n",
    "all_tickers = np.hstack((top_50, mid_50))\n",
    "all_tickers"
   ]
  },
  {
   "cell_type": "markdown",
   "metadata": {},
   "source": [
    "We're now going to fill our database with all the important information we need. For each ticker we will get all of its earnings dates, and populate the database with the information needed for our strategy for a couple different parameter settings."
   ]
  },
  {
   "cell_type": "code",
   "execution_count": null,
   "metadata": {
    "collapsed": false
   },
   "outputs": [],
   "source": [
    "date_settings = [\n",
    "    (1, 20),\n",
    "    (1, 10),\n",
    "    (1, 30),\n",
    "    (2, 10),\n",
    "    (2, 20),\n",
    "    (2, 30),\n",
    "    (3, 10),\n",
    "    (3, 20),\n",
    "    (3, 30)\n",
    "]\n",
    "\n",
    "base_insert = open('OpenInterestInsert.sql', 'r').read()\n",
    "\n",
    "c = get_connection()\n",
    "for bus_days_prior, bus_days_after in date_settings:\n",
    "    td_prior = TradingDay(bus_days_prior)\n",
    "    td_after = TradingDay(bus_days_after)\n",
    "    for ticker in all_tickers:\n",
    "        dates = earnings_dates[earnings_dates['Ticker'] == ticker]['NormDate']\n",
    "        print(\"Processing {} dates for ticker {}\".format(\n",
    "                len(dates), ticker\n",
    "            ))\n",
    "        for date in dates:\n",
    "            query = base_insert.format(\n",
    "                ticker=ticker,\n",
    "                bus_days_prior=bus_days_prior,\n",
    "                bus_days_after=bus_days_after,\n",
    "                trade_open=date.strftime(date_format),\n",
    "                trade_close=(date + td_after).strftime(date_format),\n",
    "                prior_date=(date - td_prior).strftime(date_format)\n",
    "            )\n",
    "            try:\n",
    "                c.execute(query)\n",
    "            except:\n",
    "                print(query)\n",
    "                raise\n",
    "            print(\"It didn't break!\")"
   ]
  }
 ],
 "metadata": {
  "anaconda-cloud": {},
  "kernelspec": {
   "display_name": "Python [Root]",
   "language": "python",
   "name": "Python [Root]"
  },
  "language_info": {
   "codemirror_mode": {
    "name": "ipython",
    "version": 3
   },
   "file_extension": ".py",
   "mimetype": "text/x-python",
   "name": "python",
   "nbconvert_exporter": "python",
   "pygments_lexer": "ipython3",
   "version": "3.5.2"
  }
 },
 "nbformat": 4,
 "nbformat_minor": 0
}
