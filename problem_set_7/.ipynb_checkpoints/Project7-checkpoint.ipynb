{
 "cells": [
  {
   "cell_type": "code",
   "execution_count": 3,
   "metadata": {
    "collapsed": false
   },
   "outputs": [],
   "source": [
    "import sys\n",
    "sys.path.append('../utils/')\n",
    "\n",
    "from query import query_dataframe_f, pprint_query, nbprint_and_query\n",
    "use_latex = False"
   ]
  },
  {
   "cell_type": "markdown",
   "metadata": {},
   "source": [
    "# Project 7 - Event Driven Finance\n",
    "**Helgi Ingimundarson - hi2179, Bradlee Spiece - bcs2149, Giovanni Gambarotta - gg2607**"
   ]
  },
  {
   "cell_type": "markdown",
   "metadata": {},
   "source": [
    "## Problem 3"
   ]
  },
  {
   "cell_type": "code",
   "execution_count": 12,
   "metadata": {
    "collapsed": false,
    "scrolled": false
   },
   "outputs": [
    {
     "name": "stderr",
     "output_type": "stream",
     "text": [
      "C:\\Users\\Helgi\\Anaconda3\\lib\\site-packages\\ipykernel\\__main__.py:5: SettingWithCopyWarning: \n",
      "A value is trying to be set on a copy of a slice from a DataFrame.\n",
      "Try using .loc[row_indexer,col_indexer] = value instead\n",
      "\n",
      "See the caveats in the documentation: http://pandas.pydata.org/pandas-docs/stable/indexing.html#indexing-view-versus-copy\n"
     ]
    },
    {
     "data": {
      "image/png": "[encoded data removed]",
      "text/plain": [
       "<matplotlib.figure.Figure at 0x1f191425cc0>"
      ]
     },
     "metadata": {},
     "output_type": "display_data"
    }
   ],
   "source": [
    "data = query_dataframe_f('Q3.sql')\n",
    "\n",
    "# Candlestick plot of Open - High - LowAskHigh- Close chart\n",
    "plt_data = data[['Date','OpenPrice','AskHigh','BidLow','ClosePrice']]\n",
    "plt_data['Date'] = mplot.dates.date2num(plt_data['Date'].astype(object)) # TODO: Better conversion method\n",
    "# Candlestick plot of prices\n",
    "fig = plt.figure(figsize=(16,8))\n",
    "ax = fig.add_subplot(1,1,1)\n",
    "candlestick_ohlc(ax, plt_data.values, width=1, colorup='g', colordown='r', alpha=0.75)\n",
    "plt.grid(True)\n",
    "plt.show()"
   ]
  },
  {
   "cell_type": "markdown",
   "metadata": {},
   "source": [
    "Stock price spikes on May 9 2011. According to the Distribution table in the database this was a 10/1 split.\n",
    "\n",
    "CEPH was a biopharmaceutical company, it was aquired by Teva in May 2011. The announcement was made May 2 2011.\n",
    "http://www.tevapharm.com/news/teva_to_acquire_cephalon_in_6_8_billion_transaction_05_11.aspx\n",
    "\n",
    "The purchase price of 81.50 per share represents a 39% premium to Cephalon's stock price on March 29, 2011, the last closing price before the unsolicited proposal was announced; a premium of 44% to Cephalon's average closing stock price over the last 30 trading days prior to the unsolicited proposal; a 12% premium to the unsolicited proposal of 73.00 per share; and a premium of 6% to Cephalon's closing stock price on April 29, 2011, the last trading day prior to today's announcement. The transaction is expected to be immediately accretive to Teva's non-GAAP earnings per share and accretive to Teva's GAAP earnings within the fourth quarter of closing. \n",
    "\n"
   ]
  }
 ],
 "metadata": {
  "anaconda-cloud": {},
  "kernelspec": {
   "display_name": "Python [Root]",
   "language": "python",
   "name": "Python [Root]"
  },
  "language_info": {
   "codemirror_mode": {
    "name": "ipython",
    "version": 3
   },
   "file_extension": ".py",
   "mimetype": "text/x-python",
   "name": "python",
   "nbconvert_exporter": "python",
   "pygments_lexer": "ipython3",
   "version": "3.5.2"
  }
 },
 "nbformat": 4,
 "nbformat_minor": 0
}
