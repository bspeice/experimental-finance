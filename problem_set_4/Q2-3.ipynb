{
 "cells": [
  {
   "cell_type": "code",
   "execution_count": 1,
   "metadata": {
    "collapsed": true
   },
   "outputs": [],
   "source": [
    "import sys\n",
    "sys.path.append('../utils/')\n",
    "\n",
    "from query import query_dataframe_f, pprint_query, nbprint_and_query\n",
    "use_latex = False"
   ]
  },
  {
   "cell_type": "markdown",
   "metadata": {},
   "source": [
    "# Question 2"
   ]
  },
  {
   "cell_type": "code",
   "execution_count": 2,
   "metadata": {
    "collapsed": false
   },
   "outputs": [],
   "source": [
    "#q2_data = nbprint_and_query('Q2_atm.sql')\n",
    "#q2_data.to_csv('q2_data.csv')"
   ]
  },
  {
   "cell_type": "code",
   "execution_count": 3,
   "metadata": {
    "collapsed": false
   },
   "outputs": [],
   "source": [
    "import pandas as pd\n",
    "from datetime import datetime, timedelta\n",
    "\n",
    "from trading_days import TradingDay\n",
    "\n",
    "# Code run before this to retrieve data:\n",
    "#q2a_data = nbprint_and_query('Q2a.sql')\n",
    "#q2a_data.to_csv('q2a_data.csv')\n",
    "\n",
    "q2_data = pd.read_csv('q2_data.csv',\n",
    "                      parse_dates=['Date', 'Expiration'],\n",
    "                      index_col=0)\n",
    "q2_data['AdjStrike'] = q2_data['Strike'] / 1000.\n",
    "q2_data['ActualExpiration'] = q2_data['Expiration'] - TradingDay(1)"
   ]
  },
  {
   "cell_type": "code",
   "execution_count": 4,
   "metadata": {
    "collapsed": false
   },
   "outputs": [
    {
     "data": {
      "text/html": [
       "<div>\n",
       "<table border=\"1\" class=\"dataframe\">\n",
       "  <thead>\n",
       "    <tr style=\"text-align: right;\">\n",
       "      <th></th>\n",
       "      <th>Ticker</th>\n",
       "      <th>ClosePrice</th>\n",
       "      <th>Volume</th>\n",
       "      <th>Date</th>\n",
       "      <th>Strike</th>\n",
       "      <th>OpenInterest</th>\n",
       "      <th>Expiration</th>\n",
       "      <th>ImpliedVolatility</th>\n",
       "      <th>StrikeDiff</th>\n",
       "      <th>AdjStrike</th>\n",
       "      <th>ActualExpiration</th>\n",
       "    </tr>\n",
       "  </thead>\n",
       "  <tbody>\n",
       "    <tr>\n",
       "      <th>0</th>\n",
       "      <td>SEE</td>\n",
       "      <td>25.459999</td>\n",
       "      <td>871972</td>\n",
       "      <td>2008-05-15</td>\n",
       "      <td>22500</td>\n",
       "      <td>64</td>\n",
       "      <td>2008-05-17</td>\n",
       "      <td>0.414089</td>\n",
       "      <td>2.959999</td>\n",
       "      <td>22.5</td>\n",
       "      <td>2008-05-16</td>\n",
       "    </tr>\n",
       "    <tr>\n",
       "      <th>1</th>\n",
       "      <td>MCHP</td>\n",
       "      <td>35.700001</td>\n",
       "      <td>1406783</td>\n",
       "      <td>2007-04-04</td>\n",
       "      <td>40000</td>\n",
       "      <td>133948</td>\n",
       "      <td>2007-04-21</td>\n",
       "      <td>0.266574</td>\n",
       "      <td>4.299999</td>\n",
       "      <td>40.0</td>\n",
       "      <td>2007-04-20</td>\n",
       "    </tr>\n",
       "    <tr>\n",
       "      <th>2</th>\n",
       "      <td>LIFE</td>\n",
       "      <td>42.880001</td>\n",
       "      <td>894862</td>\n",
       "      <td>2008-08-28</td>\n",
       "      <td>42500</td>\n",
       "      <td>281472</td>\n",
       "      <td>2008-08-16</td>\n",
       "      <td>0.368145</td>\n",
       "      <td>0.380001</td>\n",
       "      <td>42.5</td>\n",
       "      <td>2008-08-15</td>\n",
       "    </tr>\n",
       "    <tr>\n",
       "      <th>3</th>\n",
       "      <td>USB</td>\n",
       "      <td>35.580002</td>\n",
       "      <td>5307900</td>\n",
       "      <td>2007-03-20</td>\n",
       "      <td>37500</td>\n",
       "      <td>837242</td>\n",
       "      <td>2007-03-17</td>\n",
       "      <td>0.128736</td>\n",
       "      <td>1.919998</td>\n",
       "      <td>37.5</td>\n",
       "      <td>2007-03-16</td>\n",
       "    </tr>\n",
       "    <tr>\n",
       "      <th>4</th>\n",
       "      <td>FHN</td>\n",
       "      <td>10.950000</td>\n",
       "      <td>3299048</td>\n",
       "      <td>2008-08-28</td>\n",
       "      <td>15000</td>\n",
       "      <td>170476</td>\n",
       "      <td>2008-08-16</td>\n",
       "      <td>0.676179</td>\n",
       "      <td>4.050000</td>\n",
       "      <td>15.0</td>\n",
       "      <td>2008-08-15</td>\n",
       "    </tr>\n",
       "  </tbody>\n",
       "</table>\n",
       "</div>"
      ],
      "text/plain": [
       "   Ticker  ClosePrice   Volume       Date  Strike  OpenInterest Expiration  \\\n",
       "0  SEE      25.459999   871972 2008-05-15   22500            64 2008-05-17   \n",
       "1  MCHP     35.700001  1406783 2007-04-04   40000        133948 2007-04-21   \n",
       "2  LIFE     42.880001   894862 2008-08-28   42500        281472 2008-08-16   \n",
       "3  USB      35.580002  5307900 2007-03-20   37500        837242 2007-03-17   \n",
       "4  FHN      10.950000  3299048 2008-08-28   15000        170476 2008-08-16   \n",
       "\n",
       "   ImpliedVolatility  StrikeDiff  AdjStrike ActualExpiration  \n",
       "0           0.414089    2.959999       22.5       2008-05-16  \n",
       "1           0.266574    4.299999       40.0       2007-04-20  \n",
       "2           0.368145    0.380001       42.5       2008-08-15  \n",
       "3           0.128736    1.919998       37.5       2007-03-16  \n",
       "4           0.676179    4.050000       15.0       2008-08-15  "
      ]
     },
     "execution_count": 4,
     "metadata": {},
     "output_type": "execute_result"
    }
   ],
   "source": [
    "from datetime import datetime, timedelta\n",
    "from itertools import chain\n",
    "# Now, we've actually retrieved too much data.\n",
    "# We first want to filter down to things that are actually +/- 10 trading days\n",
    "# of an expiration. First, get all trading days, then build out all possible\n",
    "# days, then filter where date is in that list of possible days.\n",
    "def flatmap(f, items):\n",
    "    return list(chain.from_iterable(map(f, items)))\n",
    "\n",
    "def trading_window(date):\n",
    "    return [TradingDay(n) + date\n",
    "            for n in range(-11, 11)]\n",
    "\n",
    "trading_days = flatmap(trading_window, q2_data['ActualExpiration'].unique())\n",
    "\n",
    "q2_valid_data = q2_data[q2_data['Date'].isin(trading_days)]\n",
    "q2_valid_data.head()"
   ]
  },
  {
   "cell_type": "code",
   "execution_count": 12,
   "metadata": {
    "collapsed": false
   },
   "outputs": [],
   "source": [
    "# Now comes the fun part. Currently we have all strikes,\n",
    "# and we essentially want to filter this down to only ATM strikes.\n",
    "from datetime import timedelta\n",
    "def find_atm_strike(df):\n",
    "    # Expiration is marked as a Saturday in Ivy, so we need to do\n",
    "    # df['Date'] + 1 to compensate\n",
    "    prices_at_expiration = df[df['Expiration'] == df['Date'] + timedelta(days=1)]\n",
    "    prices_at_expiration['Diff'] = (prices_at_expiration['AdjStrike'] -\n",
    "                                    prices_at_expiration['ClosePrice']).abs()\n",
    "    # And get the strike with minimum difference from close\n",
    "    # We first sort ordering smallest difference first, get the first row\n",
    "    # (i.e. minimum) and then its actual value\n",
    "    try:\n",
    "        atm_strike = (prices_at_expiration.sort_values('Diff')\n",
    "                      .head(1)['AdjStrike'].values[0])\n",
    "    except IndexError:\n",
    "        atm_strike = 0\n",
    "        \n",
    "    return atm_strike\n",
    "\n",
    "def filter_atm(df):\n",
    "    return df[df['AdjStrike'] == find_atm_strike(df)]\n",
    "\n",
    "q2_groups = q2_valid_data.groupby(['Expiration', 'Ticker'])\n",
    "q2_atm = q2_groups.apply(filter_atm)\n",
    "\n",
    "q2_atm.reset_index(drop=True, inplace=True)"
   ]
  },
  {
   "cell_type": "code",
   "execution_count": 13,
   "metadata": {
    "collapsed": false
   },
   "outputs": [],
   "source": [
    "# Now we need to build out the 'score' we will be binning on.\n",
    "# The 'score' is defined as Open Interest / Avg. daily volume for\n",
    "# the five days before expiration.\n",
    "# The way we go about doing this is to first calculate for each row\n",
    "# how many business days there are before expiration. We will re-use\n",
    "# this data later in actually building the chart. Once this is done,\n",
    "# we can define the score column in a vectorized form, which will make\n",
    "# it much faster to calculate relative to the filtering we've done so far.\n",
    "def bus_days_between(start, end):\n",
    "    if start.date() == end.date():\n",
    "        return 0\n",
    "    elif start < end:\n",
    "        return len(pd.date_range(start=start.date(),\n",
    "                                 end=end.date(),\n",
    "                                 closed='left',\n",
    "                                 freq=TradingDay(1)))\n",
    "    else:\n",
    "        return -len(pd.date_range(start=end.date(),\n",
    "                                  end=start.date(),\n",
    "                                  closed='left',\n",
    "                                  freq=TradingDay(1)))\n",
    "    \n",
    "q2_atm['DeltaExpiration'] = q2_atm.apply(\n",
    "    lambda r: bus_days_between(r.Date, r.ActualExpiration),\n",
    "    1)"
   ]
  },
  {
   "cell_type": "code",
   "execution_count": 14,
   "metadata": {
    "collapsed": false
   },
   "outputs": [],
   "source": [
    "import numpy as np\n",
    "\n",
    "def score(group):\n",
    "    group['Score'] = group['OpenInterest'] / group[\n",
    "        (group['DeltaExpiration'] >= 1) & (group['DeltaExpiration'] <= 5)\n",
    "    ]['ClosePrice'].std()\n",
    "    return group\n",
    "\n",
    "q2_atm_scored = q2_atm.groupby(['Ticker', 'Expiration']).apply(score)\n",
    "\n",
    "def did_pin(group):\n",
    "    group['Pinned'] = np.abs(group['ClosePrice'] - group['AdjStrike']) < .125\n",
    "    return group\n",
    "\n",
    "q2_pinned = q2_atm_scored.groupby(['Ticker', 'Expiration']).apply(did_pin)\n",
    "q2_pinned.to_csv('q2_pinned.csv')"
   ]
  },
  {
   "cell_type": "code",
   "execution_count": 33,
   "metadata": {
    "collapsed": false
   },
   "outputs": [],
   "source": [
    "bins = np.percentile(q2_pinned['Score'].dropna(), [25, 50, 75])"
   ]
  },
  {
   "cell_type": "code",
   "execution_count": 34,
   "metadata": {
    "collapsed": true
   },
   "outputs": [],
   "source": [
    "ppn_1 = q2_pinned[q2_pinned['Score'] <= bins[0]]\n",
    "ppn_2 = q2_pinned[\n",
    "    (q2_pinned['Score'] > bins[0]) & (q2_pinned['Score'] < bins[1])\n",
    "]\n",
    "ppn_3 = q2_pinned[\n",
    "    (q2_pinned['Score'] > bins[1]) & (q2_pinned['Score'] < bins[2])\n",
    "]\n",
    "ppn_4 = q2_pinned[q2_pinned['Score'] > bins[2]]"
   ]
  },
  {
   "cell_type": "code",
   "execution_count": 35,
   "metadata": {
    "collapsed": false
   },
   "outputs": [
    {
     "data": {
      "text/plain": [
       "<matplotlib.axes._subplots.AxesSubplot at 0x7f38e9136198>"
      ]
     },
     "execution_count": 35,
     "metadata": {},
     "output_type": "execute_result"
    },
    {
     "data": {
      "image/png": "[encoded data removed]",
      "text/plain": [
       "<matplotlib.figure.Figure at 0x7f38e9126780>"
      ]
     },
     "metadata": {},
     "output_type": "display_data"
    }
   ],
   "source": [
    "%matplotlib inline\n",
    "ppn_1.groupby(['DeltaExpiration']).mean()['Pinned'].plot(kind='bar', by='DeltaExpiration')"
   ]
  },
  {
   "cell_type": "code",
   "execution_count": 36,
   "metadata": {
    "collapsed": false
   },
   "outputs": [
    {
     "data": {
      "text/plain": [
       "<matplotlib.axes._subplots.AxesSubplot at 0x7f38eedcf320>"
      ]
     },
     "execution_count": 36,
     "metadata": {},
     "output_type": "execute_result"
    },
    {
     "data": {
      "image/png": "[encoded data removed]",
      "text/plain": [
       "<matplotlib.figure.Figure at 0x7f38f26bdb38>"
      ]
     },
     "metadata": {},
     "output_type": "display_data"
    }
   ],
   "source": [
    "ppn_2.groupby(['DeltaExpiration']).mean()['Pinned'].plot(kind='bar', by='DeltaExpiration')"
   ]
  },
  {
   "cell_type": "code",
   "execution_count": 37,
   "metadata": {
    "collapsed": false
   },
   "outputs": [
    {
     "data": {
      "text/plain": [
       "<matplotlib.axes._subplots.AxesSubplot at 0x7f38f241c6a0>"
      ]
     },
     "execution_count": 37,
     "metadata": {},
     "output_type": "execute_result"
    },
    {
     "data": {
      "image/png": "[encoded data removed]",
      "text/plain": [
       "<matplotlib.figure.Figure at 0x7f38f2431f60>"
      ]
     },
     "metadata": {},
     "output_type": "display_data"
    }
   ],
   "source": [
    "ppn_3.groupby(['DeltaExpiration']).mean()['Pinned'].plot(kind='bar', by='DeltaExpiration')"
   ]
  },
  {
   "cell_type": "code",
   "execution_count": 38,
   "metadata": {
    "collapsed": false
   },
   "outputs": [
    {
     "data": {
      "text/plain": [
       "<matplotlib.axes._subplots.AxesSubplot at 0x7f38f2227b70>"
      ]
     },
     "execution_count": 38,
     "metadata": {},
     "output_type": "execute_result"
    },
    {
     "data": {
      "image/png": "[encoded data removed]",
      "text/plain": [
       "<matplotlib.figure.Figure at 0x7f38f2230b00>"
      ]
     },
     "metadata": {},
     "output_type": "display_data"
    }
   ],
   "source": [
    "ppn_4.groupby(['DeltaExpiration']).mean()['Pinned'].plot(kind='bar', by='DeltaExpiration')"
   ]
  },
  {
   "cell_type": "markdown",
   "metadata": {},
   "source": [
    "# Problem 2b.\n",
    "\n",
    "We now repeat the same analysis for the entire marketplace (all optionable securities)."
   ]
  },
  {
   "cell_type": "code",
   "execution_count": 44,
   "metadata": {
    "collapsed": true
   },
   "outputs": [],
   "source": [
    "def score(group):\n",
    "    group['Score2'] = group['OpenInterest'] / group[\n",
    "        (group['DeltaExpiration'] >= 1) & (group['DeltaExpiration'] <= 5)\n",
    "    ]['ClosePrice'].std() / group['ImpliedVolatility']\n",
    "    return group\n",
    "\n",
    "q2_atm_scored = q2_pinned.groupby(['Ticker', 'Expiration']).apply(score)"
   ]
  },
  {
   "cell_type": "code",
   "execution_count": 45,
   "metadata": {
    "collapsed": true
   },
   "outputs": [],
   "source": [
    "import numpy as np\n",
    "bins = np.percentile(q2_atm_scored['Score2'].dropna(), [25, 50, 75])"
   ]
  },
  {
   "cell_type": "code",
   "execution_count": 46,
   "metadata": {
    "collapsed": false
   },
   "outputs": [],
   "source": [
    "ppn_1 = q2_atm_scored[q2_atm_scored['Score2'] <= bins[0]]\n",
    "ppn_2 = q2_atm_scored[\n",
    "    (q2_atm_scored['Score2'] > bins[0]) & (q2_atm_scored['Score2'] < bins[1])\n",
    "]\n",
    "ppn_3 = q2_atm_scored[\n",
    "    (q2_atm_scored['Score2'] > bins[1]) & (q2_atm_scored['Score2'] < bins[2])\n",
    "]\n",
    "ppn_4 = q2_atm_scored[q2_atm_scored['Score2'] > bins[2]]"
   ]
  },
  {
   "cell_type": "code",
   "execution_count": 47,
   "metadata": {
    "collapsed": false
   },
   "outputs": [
    {
     "data": {
      "text/plain": [
       "<matplotlib.axes._subplots.AxesSubplot at 0x7f38f2094e48>"
      ]
     },
     "execution_count": 47,
     "metadata": {},
     "output_type": "execute_result"
    },
    {
     "data": {
      "image/png": "[encoded data removed]",
      "text/plain": [
       "<matplotlib.figure.Figure at 0x7f38f1ff32b0>"
      ]
     },
     "metadata": {},
     "output_type": "display_data"
    }
   ],
   "source": [
    "ppn_1.groupby(['DeltaExpiration']).mean()['Pinned'].plot(kind='bar', by='DeltaExpiration')"
   ]
  },
  {
   "cell_type": "code",
   "execution_count": 48,
   "metadata": {
    "collapsed": false
   },
   "outputs": [
    {
     "data": {
      "text/plain": [
       "<matplotlib.axes._subplots.AxesSubplot at 0x7f390e872748>"
      ]
     },
     "execution_count": 48,
     "metadata": {},
     "output_type": "execute_result"
    },
    {
     "data": {
      "image/png": "[encoded data removed]",
      "text/plain": [
       "<matplotlib.figure.Figure at 0x7f393d0f3550>"
      ]
     },
     "metadata": {},
     "output_type": "display_data"
    }
   ],
   "source": [
    "ppn_2.groupby(['DeltaExpiration']).mean()['Pinned'].plot(kind='bar', by='DeltaExpiration')"
   ]
  },
  {
   "cell_type": "code",
   "execution_count": 49,
   "metadata": {
    "collapsed": false
   },
   "outputs": [
    {
     "data": {
      "text/plain": [
       "<matplotlib.axes._subplots.AxesSubplot at 0x7f38f2af9978>"
      ]
     },
     "execution_count": 49,
     "metadata": {},
     "output_type": "execute_result"
    },
    {
     "data": {
      "image/png": "[encoded data removed]",
      "text/plain": [
       "<matplotlib.figure.Figure at 0x7f38f2afe048>"
      ]
     },
     "metadata": {},
     "output_type": "display_data"
    }
   ],
   "source": [
    "ppn_3.groupby(['DeltaExpiration']).mean()['Pinned'].plot(kind='bar', by='DeltaExpiration')"
   ]
  },
  {
   "cell_type": "code",
   "execution_count": 50,
   "metadata": {
    "collapsed": false
   },
   "outputs": [
    {
     "data": {
      "text/plain": [
       "<matplotlib.axes._subplots.AxesSubplot at 0x7f39101d2860>"
      ]
     },
     "execution_count": 50,
     "metadata": {},
     "output_type": "execute_result"
    },
    {
     "data": {
      "image/png": "[encoded data removed]",
      "text/plain": [
       "<matplotlib.figure.Figure at 0x7f39101e4160>"
      ]
     },
     "metadata": {},
     "output_type": "display_data"
    }
   ],
   "source": [
    "ppn_4.groupby(['DeltaExpiration']).mean()['Pinned'].plot(kind='bar', by='DeltaExpiration')"
   ]
  }
 ],
 "metadata": {
  "anaconda-cloud": {},
  "kernelspec": {
   "display_name": "Python 3",
   "language": "python",
   "name": "python3"
  },
  "language_info": {
   "codemirror_mode": {
    "name": "ipython",
    "version": 3
   },
   "file_extension": ".py",
   "mimetype": "text/x-python",
   "name": "python",
   "nbconvert_exporter": "python",
   "pygments_lexer": "ipython3",
   "version": "3.5.2"
  }
 },
 "nbformat": 4,
 "nbformat_minor": 0
}
