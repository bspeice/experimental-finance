{
 "cells": [
  {
   "cell_type": "code",
   "execution_count": 67,
   "metadata": {
    "collapsed": false
   },
   "outputs": [],
   "source": [
    "import sys\n",
    "sys.path.append('../utils/')\n",
    "\n",
    "from trading_days import TradingDay\n",
    "from datetime import datetime, timedelta\n",
    "from itertools import chain\n",
    "\n",
    "import seaborn as sns\n",
    "from sqlalchemy import create_engine\n",
    "import datetime\n",
    "import pandas as pd\n",
    "from pygments import highlight\n",
    "from pygments.lexers.sql import SqlLexer\n",
    "from pygments.formatters import HtmlFormatter, LatexFormatter\n",
    "from IPython import display\n",
    "import matplotlib.pyplot as plt\n",
    "from __future__ import division\n",
    "import numpy as np\n",
    "from datetime import date\n",
    "%matplotlib inline\n",
    "\n",
    "from query import query_dataframe_f, pprint_query, nbprint_and_query, query_dataframe\n",
    "use_latex = False"
   ]
  },
  {
   "cell_type": "code",
   "execution_count": 2,
   "metadata": {
    "collapsed": true
   },
   "outputs": [],
   "source": [
    "def ATM(Ticker,Date_Start,Date_End):\n",
    "    '''\n",
    "        The query selects all minimum strike differences for each \n",
    "        date in the date range considered for the selected ticker \n",
    "        with (-10,+10) buffer around start and end date\n",
    "    '''\n",
    "    sql_raw = open('ATM.sql', 'r').read()\n",
    "    sql_format = sql_raw.format(\n",
    "            ticker = Ticker, \n",
    "            date_start = Date_Start, # yyyy-MM-dd\n",
    "            date_end = Date_End, # yyyy-MM-dd\n",
    "        )\n",
    "    data = query_dataframe(sql_format) \n",
    "    return data\n",
    "\n",
    "def Expirations(Ticker,Date_Start,Date_End):\n",
    "    '''\n",
    "        The query selects all expirations for options in \n",
    "        the date range considered for the selected ticker\n",
    "    '''\n",
    "    sql_raw = open('Exp.sql', 'r').read()\n",
    "    sql_format = sql_raw.format(\n",
    "            ticker = Ticker, \n",
    "            date_start = Date_Start, # yyyy-MM-dd\n",
    "            date_end = Date_End, # yyyy-MM-dd\n",
    "        )\n",
    "    data = query_dataframe(sql_format).astype(pd.datetime) \n",
    "    # Create a column with day of the week id\n",
    "    data['WeekDay'] = data.Expiration.dt.dayofweek\n",
    "    return data\n",
    "\n",
    "# Safer to work with Security IDs in some cases\n",
    "def ATM_ID(ID,Date_Start,Date_End):\n",
    "    '''\n",
    "        The query selects all minimum strike differences for each \n",
    "        date in the date range considered for the selected ID \n",
    "        with (-10,+10) buffer around start and end date\n",
    "    '''\n",
    "    sql_raw = open('ATM_ID.sql', 'r').read()\n",
    "    sql_format = sql_raw.format(\n",
    "            sec_id = ID, \n",
    "            date_start = Date_Start, # yyyy-MM-dd\n",
    "            date_end = Date_End, # yyyy-MM-dd\n",
    "        )\n",
    "    data = query_dataframe(sql_format) \n",
    "    return data\n",
    "\n",
    "def Expirations_ID(ID,Date_Start,Date_End):\n",
    "    '''\n",
    "        The query selects all expirations for options in \n",
    "        the date range considered for the selected ID\n",
    "    '''\n",
    "    sql_raw = open('Exp_ID.sql', 'r').read()\n",
    "    sql_format = sql_raw.format(\n",
    "            sec_id = ID, \n",
    "            date_start = Date_Start, # yyyy-MM-dd\n",
    "            date_end = Date_End, # yyyy-MM-dd\n",
    "        )\n",
    "    data = query_dataframe(sql_format).astype(pd.datetime) \n",
    "    # Create a column with day of the week id\n",
    "    if not data.empty:\n",
    "        data['WeekDay'] = data.Expiration.dt.dayofweek\n",
    "    return data"
   ]
  },
  {
   "cell_type": "code",
   "execution_count": 3,
   "metadata": {
    "collapsed": true
   },
   "outputs": [],
   "source": [
    "def trading_window(date,n):\n",
    "    '''\n",
    "        Selecting a (-n,+n) interval of trading days aroun date\n",
    "    '''\n",
    "    starting_date = -TradingDay(n) + date\n",
    "    return [starting_date + TradingDay(i)\n",
    "            for i in range(n*2+1)]"
   ]
  },
  {
   "cell_type": "code",
   "execution_count": 49,
   "metadata": {
    "collapsed": false
   },
   "outputs": [],
   "source": [
    "def pinning_data(ticker_id,Date_Start,Date_End,delta_t,identifier):\n",
    "    '''\n",
    "    The function returns a data frame with minimum strike difference for \n",
    "    -delta_t,+delta_t days around each expiration date considered in the date range\n",
    "    given a selected Ticker\n",
    "    '''\n",
    "    strike_diff = []\n",
    "    dates = []\n",
    "    # Getting ATM series and expirations\n",
    "    if identifier=='ID':\n",
    "        atm = ATM_ID(ticker_id,Date_Start,Date_End)\n",
    "        exp_dates = Expirations_ID(ticker_id,Date_Start,Date_End)\n",
    "    else:\n",
    "        atm = ATM(ticker_id,Date_Start,Date_End)\n",
    "        exp_dates = Expirations(ticker_id,Date_Start,Date_End)\n",
    "    if exp_dates.empty:\n",
    "        return []\n",
    "    for exp in exp_dates.Expiration.values:\n",
    "        dates.append(exp)\n",
    "        # Selecting the right expiration date in case it was a Saturday\n",
    "        if exp_dates.WeekDay[exp_dates.Expiration==exp].values[0]==5:\n",
    "            real_exp = exp-TradingDay(1)\n",
    "        else:\n",
    "            real_exp = exp\n",
    "        # Creaiting a date window with the dates of interest\n",
    "        exp_window = trading_window(real_exp,delta_t)\n",
    "        # Creating a data frame for .csv output\n",
    "        df = atm[atm.Date.isin(exp_window)].drop_duplicates('Date')\n",
    "        df.Date = df.Date.astype(pd.datetime)\n",
    "        df['Ticker/ID'] = ticker_id\n",
    "        df['Real Expiration'] = real_exp\n",
    "        df['Ivy Expiration'] = exp\n",
    "        if identifier=='ID':\n",
    "            df.to_csv('ID_data.csv', mode='a',header=False,index=False)\n",
    "        else:\n",
    "            df.to_csv(ticker_id+'.csv', mode='a',header=False,index=False)\n",
    "        # Dealing with missing data from some trading dates\n",
    "        if len(df[df.Date.isin(exp_window)])!=11:\n",
    "            exp_df = pd.DataFrame(np.array([exp_window]).T,\n",
    "                            columns=['Date']).astype(pd.datetime)\n",
    "            exp_df = exp_df.merge(df,how='left',on='Date',suffixes=('', ''))\n",
    "            strike_diff.append(exp_df.strike_diff.values) \n",
    "        else:\n",
    "            strike_diff.append(df.strike_diff.values)\n",
    "    # Defining the day expiration window        \n",
    "    DeltaDays = [str(i) for i in range(-delta_t,delta_t+1)]\n",
    "    # Returning strike differences and expiration dates\n",
    "    res = pd.DataFrame(np.array(strike_diff), index=dates, columns=DeltaDays)\n",
    "    if identifier=='ID':\n",
    "        res.to_csv('ID_pin_data.csv', mode='a',header=False,index=False)\n",
    "    else:\n",
    "        res.to_csv(ticker_id+'_pin_data.csv')\n",
    "    return res"
   ]
  },
  {
   "cell_type": "code",
   "execution_count": 50,
   "metadata": {
    "collapsed": false
   },
   "outputs": [],
   "source": [
    "# Plotting pinning probabilities given a dataframe returned from pinning_data()\n",
    "def pinning_hist(p_data,cut_off,ticker):\n",
    "    '''\n",
    "        Histogram plot of the pinning probabilities in the day range\n",
    "        pre-post expiration. The probability percentage count takes into\n",
    "        account also the missing data around some strikes related \n",
    "        to special circumstances in which the stock was not traded \n",
    "        even though the day was a normal trading day\n",
    "    '''\n",
    "    # Counting the number of missing values for each day\n",
    "    n_counts = (p_data.isnull().sum()).values\n",
    "    # Pinning probability for each day\n",
    "    p_prob = np.sum(1*(p_data.values<cut_off),axis=0)/(p_data.shape[0]-n_counts)\n",
    "    plt.figure(figsize=((15,6)))\n",
    "    plt.bar(range(-5,5+1),p_prob, align='center')\n",
    "    plt.title(ticker+' pinning probability')\n",
    "    plt.xlabel('DeltaExpiration')\n",
    "    p_range = np.max(p_prob)-np.min(p_prob)\n",
    "    plt.ylim((np.min(p_prob)-p_range,np.max(p_prob)+p_range))\n",
    "    plt.show()"
   ]
  },
  {
   "cell_type": "markdown",
   "metadata": {},
   "source": [
    "# Q1 \n",
    "**Consider INTC, KO, and then all optionable stocks in IVY (not indices, see the index flag on the security table). a) For the period of 1/1/1996 to 1/8/2013 for INTC and KO, reproduce the PPN bar graph for T-5 to T+5 trading days about expirations using a cut-off of USD 0.15 to define pinning. b) Do the same for all optionable stocks for the period 1/1/2012 to 1/1/2013. How reasonable are the statistics for these abbreviated sets (especially single stocks)?**"
   ]
  },
  {
   "cell_type": "markdown",
   "metadata": {},
   "source": [
    "## a)"
   ]
  },
  {
   "cell_type": "code",
   "execution_count": 54,
   "metadata": {
    "collapsed": false
   },
   "outputs": [
    {
     "name": "stdout",
     "output_type": "stream",
     "text": [
      "CPU times: user 2min 47s, sys: 184 ms, total: 2min 47s\n",
      "Wall time: 3min 11s\n"
     ]
    }
   ],
   "source": [
    "%%time\n",
    "# Otbtaining historical values for KO\n",
    "start_date = '1996-01-01'\n",
    "end_date = '2013-08-01'\n",
    "\n",
    "KO = pinning_data('KO',start_date,end_date,5,'')"
   ]
  },
  {
   "cell_type": "code",
   "execution_count": 55,
   "metadata": {
    "collapsed": false
   },
   "outputs": [
    {
     "data": {
      "image/png": "[encoded data removed]",
      "text/plain": [
       "<matplotlib.figure.Figure at 0x7f3aff6d7090>"
      ]
     },
     "metadata": {},
     "output_type": "display_data"
    }
   ],
   "source": [
    "pinning_hist(KO,0.15,'KO')"
   ]
  },
  {
   "cell_type": "code",
   "execution_count": 56,
   "metadata": {
    "collapsed": false
   },
   "outputs": [
    {
     "name": "stdout",
     "output_type": "stream",
     "text": [
      "CPU times: user 3min 2s, sys: 292 ms, total: 3min 3s\n",
      "Wall time: 3min 20s\n"
     ]
    }
   ],
   "source": [
    "%%time \n",
    "INTC = pinning_data('INTC',start_date,end_date,5,'')"
   ]
  },
  {
   "cell_type": "code",
   "execution_count": 57,
   "metadata": {
    "collapsed": false
   },
   "outputs": [
    {
     "data": {
      "image/png": "[encoded data removed]",
      "text/plain": [
       "<matplotlib.figure.Figure at 0x7f3aff7cf250>"
      ]
     },
     "metadata": {},
     "output_type": "display_data"
    }
   ],
   "source": [
    "pinning_hist(INTC,0.15,'INTC')"
   ]
  },
  {
   "cell_type": "markdown",
   "metadata": {},
   "source": [
    "The histograms por pinning probabilities in part a) clearly show that KO and INTC have different behaviour. In fact, KO has a high pinning probability at expiration compared to the other days in the DeltaExpiration window. It can be seen that the pinning probability is increasing starting from 3 days before expirations and collapsing on the day after. The pinning probability is then rising when going towards the boundaries of the DeltaExpiration range. This can be due to the fact that starting from July 2011 KO options have expirations every week and $-5,+5$ days are in these cases expiration dates as well. For INTC we do observe that the pinning probability has a maximum at expiration date, but this maximum does not seem to be significantly higher than the pinning probabilities on the other days in the DeltaExpiration interval. On the long period considered for KO and INTC, the minimum strike price tick has changed in value (e.g. USD 5,2.5,1,...), especially for INTC. This fact can have some direct impact on the calculations of pinning probabilities. At a fixed cut-off (USD 0.15 in our analysis) periods with larger strike price tick will have less weight on the overall count as the pinning probability will be lower. Morover, if the strike price tick is changing within the DeltaExpiration window, as it should be when we roll from one expiration to the other, then our results can be not so accurate. The different results for INTC and KO can also be due to the different levels of implied volatility of the two stocks. KO shows historically a much lower implied volatility than INTC and thus pinning behaviour at expiration is much more likely. To investigate the impact of strike price tick change on INTC pinning probability graphs we will look at two different periods where strike price ticks where different (cut-off fixed at USD 0.15)."
   ]
  },
  {
   "cell_type": "code",
   "execution_count": 70,
   "metadata": {
    "collapsed": false
   },
   "outputs": [
    {
     "data": {
      "image/png": "[encoded data removed]",
      "text/plain": [
       "<matplotlib.figure.Figure at 0x7f3affa2d0d0>"
      ]
     },
     "metadata": {},
     "output_type": "display_data"
    },
    {
     "name": "stdout",
     "output_type": "stream",
     "text": [
      "CPU times: user 1min 28s, sys: 52 ms, total: 1min 28s\n",
      "Wall time: 1min 48s\n"
     ]
    }
   ],
   "source": [
    "%%time\n",
    "start_date = '1996-01-01'\n",
    "end_date = '2008-01-01'\n",
    "INTC = pinning_data('INTC',start_date,end_date,5,'')\n",
    "pinning_hist(INTC,0.15,'INTC '+start_date+' to '+end_date)"
   ]
  },
  {
   "cell_type": "code",
   "execution_count": 71,
   "metadata": {
    "collapsed": false
   },
   "outputs": [
    {
     "data": {
      "image/png": "[encoded data removed]",
      "text/plain": [
       "<matplotlib.figure.Figure at 0x7f3affe105d0>"
      ]
     },
     "metadata": {},
     "output_type": "display_data"
    },
    {
     "name": "stdout",
     "output_type": "stream",
     "text": [
      "CPU times: user 1min 39s, sys: 60 ms, total: 1min 39s\n",
      "Wall time: 1min 55s\n"
     ]
    }
   ],
   "source": [
    "%%time\n",
    "start_date = '2008-01-01'\n",
    "end_date = '2013-08-01'\n",
    "INTC = pinning_data('INTC',start_date,end_date,5,'')\n",
    "pinning_hist(INTC,0.15,'INTC '+start_date+' to '+end_date)"
   ]
  },
  {
   "cell_type": "markdown",
   "metadata": {},
   "source": [
    "As we can see from the above histograms, for the period from 1996 to 2008, pinning probability on expiration and day before expiration is significantly higher than the other days in the DeltaExpiration interval. This is not the case for the period from 2008 to 2013 where other factors like implied volatility, volume and open interest may have influenced the probability of pinning at expiration. "
   ]
  },
  {
   "cell_type": "markdown",
   "metadata": {},
   "source": [
    "## b)"
   ]
  },
  {
   "cell_type": "code",
   "execution_count": 6,
   "metadata": {
    "collapsed": true
   },
   "outputs": [],
   "source": [
    "# Select all stocks securityIDs with options trading between 2012-01-01 and 2013-01-01\n",
    "start_date = '2012-01-01'\n",
    "end_date = '2013-01-01'"
   ]
  },
  {
   "cell_type": "code",
   "execution_count": null,
   "metadata": {
    "collapsed": false
   },
   "outputs": [],
   "source": [
    "# Obtaining all of the optionable stocks IDs for the date range considered\n",
    "query = ''' SELECT Distinct(op.SecurityID)\n",
    "            FROM XFDATA.dbo.SECURITY s INNER JOIN XFDATA.dbo.OPTION_PRICE_VIEW op\n",
    "            on s.SecurityID=op.SecurityID\n",
    "            WHERE Date BETWEEN '%s' AND '%s' \n",
    "            AND s.IssueType='0'  ''' % (start_date,end_date)\n",
    "\n",
    "opt_stocks_ID = query_dataframe(query)\n",
    "opt_stocks_ID.to_csv('IDS.csv')"
   ]
  },
  {
   "cell_type": "code",
   "execution_count": 7,
   "metadata": {
    "collapsed": false
   },
   "outputs": [],
   "source": [
    "# Calling the pinning_data() function on all of IDs\n",
    "IDs = pd.read_csv('IDS.csv').SecurityID.values\n",
    "all_optionable = dict((id,pinning_data(id,start_date,end_date,5,'ID')) for id in IDs)"
   ]
  },
  {
   "cell_type": "code",
   "execution_count": 14,
   "metadata": {
    "collapsed": true
   },
   "outputs": [],
   "source": [
    "# Reading pinning data from csv\n",
    "pinning = pd.read_csv('ID_pin_data.csv')"
   ]
  },
  {
   "cell_type": "code",
   "execution_count": 27,
   "metadata": {
    "collapsed": false,
    "scrolled": true
   },
   "outputs": [
    {
     "data": {
      "image/png": "[encoded data removed]",
      "text/plain": [
       "<matplotlib.figure.Figure at 0x7f3aff847250>"
      ]
     },
     "metadata": {},
     "output_type": "display_data"
    }
   ],
   "source": [
    "pinning_hist(pinning,0.15,'All optionable stocks')"
   ]
  },
  {
   "cell_type": "markdown",
   "metadata": {},
   "source": [
    "The histogram for pinning probabilities for all optionable stocks show some evidence of pinning. The pinning probability distribution has a maximum on expiration date.  "
   ]
  },
  {
   "cell_type": "markdown",
   "metadata": {},
   "source": [
    "# Q4\n",
    "**ETFs and Indices. Previous classes showed that indices DID NOT PIN. Now there are\n",
    "many ETFs that may be traded in lieu of the individual names. Pick 3 unrelated ETFs\n",
    "and see how often they pin in a three year period of your choosing.**"
   ]
  },
  {
   "cell_type": "code",
   "execution_count": 58,
   "metadata": {
    "collapsed": true
   },
   "outputs": [],
   "source": [
    "# Pinning graphs for 'GLD', 'USO', 'COW' ETSs\n",
    "start_date = '2010-01-01'\n",
    "end_date = '2013-01-01'"
   ]
  },
  {
   "cell_type": "code",
   "execution_count": 62,
   "metadata": {
    "collapsed": false
   },
   "outputs": [
    {
     "data": {
      "image/png": "[encoded data removed]",
      "text/plain": [
       "<matplotlib.figure.Figure at 0x7f3aff204d10>"
      ]
     },
     "metadata": {},
     "output_type": "display_data"
    },
    {
     "name": "stdout",
     "output_type": "stream",
     "text": [
      "CPU times: user 1min 13s, sys: 56 ms, total: 1min 13s\n",
      "Wall time: 5min 40s\n"
     ]
    }
   ],
   "source": [
    "%%time\n",
    "GLD = pinning_data('GLD',start_date,end_date,5,'')\n",
    "pinning_hist(GLD,0.15,'GLD')"
   ]
  },
  {
   "cell_type": "code",
   "execution_count": 64,
   "metadata": {
    "collapsed": false
   },
   "outputs": [
    {
     "data": {
      "image/png": "[encoded data removed]",
      "text/plain": [
       "<matplotlib.figure.Figure at 0x7f3affb06d90>"
      ]
     },
     "metadata": {},
     "output_type": "display_data"
    },
    {
     "name": "stdout",
     "output_type": "stream",
     "text": [
      "CPU times: user 1min 10s, sys: 52 ms, total: 1min 10s\n",
      "Wall time: 1min 26s\n"
     ]
    }
   ],
   "source": [
    "%%time\n",
    "USO = pinning_data('USO',start_date,end_date,5,'')\n",
    "pinning_hist(USO,0.15,'USO')"
   ]
  },
  {
   "cell_type": "code",
   "execution_count": 65,
   "metadata": {
    "collapsed": false
   },
   "outputs": [
    {
     "data": {
      "image/png": "[encoded data removed]",
      "text/plain": [
       "<matplotlib.figure.Figure at 0x7f3affa9a2d0>"
      ]
     },
     "metadata": {},
     "output_type": "display_data"
    },
    {
     "name": "stdout",
     "output_type": "stream",
     "text": [
      "CPU times: user 17.8 s, sys: 20 ms, total: 17.8 s\n",
      "Wall time: 25.4 s\n"
     ]
    }
   ],
   "source": [
    "%%time\n",
    "COW = pinning_data('COW',start_date,end_date,5,'')\n",
    "pinning_hist(COW,0.15,'COW')"
   ]
  },
  {
   "cell_type": "markdown",
   "metadata": {},
   "source": [
    "As we can see from the above histograms, none of the ETFs of interest showed pinning probability at expiration exceeding signicantly the pinning probabilities in the considered window. "
   ]
  }
 ],
 "metadata": {
  "kernelspec": {
   "display_name": "Python 2",
   "language": "python",
   "name": "python2"
  },
  "language_info": {
   "codemirror_mode": {
    "name": "ipython",
    "version": 2
   },
   "file_extension": ".py",
   "mimetype": "text/x-python",
   "name": "python",
   "nbconvert_exporter": "python",
   "pygments_lexer": "ipython2",
   "version": "2.7.12"
  }
 },
 "nbformat": 4,
 "nbformat_minor": 0
}
