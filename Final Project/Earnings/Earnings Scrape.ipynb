{
 "cells": [
  {
   "cell_type": "code",
   "execution_count": 126,
   "metadata": {
    "collapsed": false
   },
   "outputs": [],
   "source": [
    "import requests\n",
    "import pandas as pd\n",
    "import numpy as np\n",
    "from bs4 import BeautifulSoup\n",
    "\n",
    "def earnings_releases(ticker, market_cap, sector):\n",
    "    #print(\"Looking up ticker {}\".format(ticker))\n",
    "    user_agent = 'Mozilla/5.0 (Windows NT 10.0; WOW64; rv:46.0) '\\\n",
    "        'Gecko/20100101 Firefox/46.0'\n",
    "    headers = {'user-agent': user_agent}\n",
    "    base_url = 'http://www.streetinsider.com/ec_earnings.php?q={}'\\\n",
    "        .format(ticker)\n",
    "    s = requests.Session()\n",
    "    a = requests.adapters.HTTPAdapter(max_retries=0)\n",
    "    s.mount('http://', a)\n",
    "    \n",
    "    html = str(s.get(base_url, headers=headers).content)\n",
    "    soup = BeautifulSoup(html, 'lxml')\n",
    "    \n",
    "    # There are two tables - one is the more recent earnings,\n",
    "    # second is historical\n",
    "    tables = pd.read_html(str(soup.find_all('table')[1:3]))\n",
    "    \n",
    "    table = pd.concat(tables)\n",
    "    table.columns = table.iloc[0]\n",
    "    table = table.iloc[1:][['Date', 'EPS', 'Cons.', 'Surprise', 'Revs']]\n",
    "    \n",
    "    def parse_float(series):\n",
    "        try:\n",
    "            return (series.str.replace('$', '')\n",
    "                    .str.replace('+', '')\n",
    "                    .str.replace('[A-Za-z]', '')\n",
    "                    .astype(float))\n",
    "        except (ValueError, AttributeError):\n",
    "            return [np.nan] * len(series)\n",
    "    \n",
    "    table['Surprise'] = parse_float(table['Surprise'])\n",
    "    table['EPS'] = parse_float(table['EPS'])\n",
    "    \n",
    "    table['Ticker'] = [ticker] * len(table)\n",
    "    table['Market Cap'] = [market_cap] * len(table)\n",
    "    table['Sector'] = [sector] * len(table)\n",
    "    table['BeforeOpen'] = ['Before Open' in html] * len(table)\n",
    "    return table.dropna()"
   ]
  },
  {
   "cell_type": "code",
   "execution_count": 98,
   "metadata": {
    "collapsed": false
   },
   "outputs": [],
   "source": [
    "r3k_raw = pd.read_csv('https://www.ishares.com/us/products/239714/'\n",
    "                  'ishares-russell-3000-etf/1467271812596.ajax'\n",
    "                  '?fileType=csv&fileName=IWV_holdings&dataType=fund', header=10)\n",
    "\n",
    "r3k = r3k_raw[r3k_raw['Asset Class'] == 'Equity']"
   ]
  },
  {
   "cell_type": "code",
   "execution_count": 130,
   "metadata": {
    "collapsed": false
   },
   "outputs": [],
   "source": [
    "e = [earnings_releases(x['Ticker'], x['Notional Value'], x['Sector']) for i, x in r3k.iterrows()]\n",
    "all_earnings = pd.concat(e)\n",
    "all_earnings.to_csv('all_earnings.csv')"
   ]
  }
 ],
 "metadata": {
  "kernelspec": {
   "display_name": "Python [Root]",
   "language": "python",
   "name": "Python [Root]"
  },
  "language_info": {
   "codemirror_mode": {
    "name": "ipython",
    "version": 3
   },
   "file_extension": ".py",
   "mimetype": "text/x-python",
   "name": "python",
   "nbconvert_exporter": "python",
   "pygments_lexer": "ipython3",
   "version": "3.5.2"
  }
 },
 "nbformat": 4,
 "nbformat_minor": 0
}
