{
 "cells": [
  {
   "cell_type": "code",
   "execution_count": 1,
   "metadata": {
    "collapsed": true
   },
   "outputs": [],
   "source": [
    "import sys\n",
    "sys.path.append('../utils/')\n",
    "\n",
    "from query import query_dataframe_f, pprint_query, nbprint_and_query\n",
    "use_latex = False"
   ]
  },
  {
   "cell_type": "markdown",
   "metadata": {},
   "source": [
    "# Question 2"
   ]
  },
  {
   "cell_type": "code",
   "execution_count": 2,
   "metadata": {
    "collapsed": false
   },
   "outputs": [
    {
     "data": {
      "text/html": [
       "<style type=\"text/css\">.highlight .hll { background-color: #ffffcc }\n",
       ".highlight  { background: #f8f8f8; }\n",
       ".highlight .c { color: #408080; font-style: italic } /* Comment */\n",
       ".highlight .err { border: 1px solid #FF0000 } /* Error */\n",
       ".highlight .k { color: #008000; font-weight: bold } /* Keyword */\n",
       ".highlight .o { color: #666666 } /* Operator */\n",
       ".highlight .ch { color: #408080; font-style: italic } /* Comment.Hashbang */\n",
       ".highlight .cm { color: #408080; font-style: italic } /* Comment.Multiline */\n",
       ".highlight .cp { color: #BC7A00 } /* Comment.Preproc */\n",
       ".highlight .cpf { color: #408080; font-style: italic } /* Comment.PreprocFile */\n",
       ".highlight .c1 { color: #408080; font-style: italic } /* Comment.Single */\n",
       ".highlight .cs { color: #408080; font-style: italic } /* Comment.Special */\n",
       ".highlight .gd { color: #A00000 } /* Generic.Deleted */\n",
       ".highlight .ge { font-style: italic } /* Generic.Emph */\n",
       ".highlight .gr { color: #FF0000 } /* Generic.Error */\n",
       ".highlight .gh { color: #000080; font-weight: bold } /* Generic.Heading */\n",
       ".highlight .gi { color: #00A000 } /* Generic.Inserted */\n",
       ".highlight .go { color: #888888 } /* Generic.Output */\n",
       ".highlight .gp { color: #000080; font-weight: bold } /* Generic.Prompt */\n",
       ".highlight .gs { font-weight: bold } /* Generic.Strong */\n",
       ".highlight .gu { color: #800080; font-weight: bold } /* Generic.Subheading */\n",
       ".highlight .gt { color: #0044DD } /* Generic.Traceback */\n",
       ".highlight .kc { color: #008000; font-weight: bold } /* Keyword.Constant */\n",
       ".highlight .kd { color: #008000; font-weight: bold } /* Keyword.Declaration */\n",
       ".highlight .kn { color: #008000; font-weight: bold } /* Keyword.Namespace */\n",
       ".highlight .kp { color: #008000 } /* Keyword.Pseudo */\n",
       ".highlight .kr { color: #008000; font-weight: bold } /* Keyword.Reserved */\n",
       ".highlight .kt { color: #B00040 } /* Keyword.Type */\n",
       ".highlight .m { color: #666666 } /* Literal.Number */\n",
       ".highlight .s { color: #BA2121 } /* Literal.String */\n",
       ".highlight .na { color: #7D9029 } /* Name.Attribute */\n",
       ".highlight .nb { color: #008000 } /* Name.Builtin */\n",
       ".highlight .nc { color: #0000FF; font-weight: bold } /* Name.Class */\n",
       ".highlight .no { color: #880000 } /* Name.Constant */\n",
       ".highlight .nd { color: #AA22FF } /* Name.Decorator */\n",
       ".highlight .ni { color: #999999; font-weight: bold } /* Name.Entity */\n",
       ".highlight .ne { color: #D2413A; font-weight: bold } /* Name.Exception */\n",
       ".highlight .nf { color: #0000FF } /* Name.Function */\n",
       ".highlight .nl { color: #A0A000 } /* Name.Label */\n",
       ".highlight .nn { color: #0000FF; font-weight: bold } /* Name.Namespace */\n",
       ".highlight .nt { color: #008000; font-weight: bold } /* Name.Tag */\n",
       ".highlight .nv { color: #19177C } /* Name.Variable */\n",
       ".highlight .ow { color: #AA22FF; font-weight: bold } /* Operator.Word */\n",
       ".highlight .w { color: #bbbbbb } /* Text.Whitespace */\n",
       ".highlight .mb { color: #666666 } /* Literal.Number.Bin */\n",
       ".highlight .mf { color: #666666 } /* Literal.Number.Float */\n",
       ".highlight .mh { color: #666666 } /* Literal.Number.Hex */\n",
       ".highlight .mi { color: #666666 } /* Literal.Number.Integer */\n",
       ".highlight .mo { color: #666666 } /* Literal.Number.Oct */\n",
       ".highlight .sb { color: #BA2121 } /* Literal.String.Backtick */\n",
       ".highlight .sc { color: #BA2121 } /* Literal.String.Char */\n",
       ".highlight .sd { color: #BA2121; font-style: italic } /* Literal.String.Doc */\n",
       ".highlight .s2 { color: #BA2121 } /* Literal.String.Double */\n",
       ".highlight .se { color: #BB6622; font-weight: bold } /* Literal.String.Escape */\n",
       ".highlight .sh { color: #BA2121 } /* Literal.String.Heredoc */\n",
       ".highlight .si { color: #BB6688; font-weight: bold } /* Literal.String.Interpol */\n",
       ".highlight .sx { color: #008000 } /* Literal.String.Other */\n",
       ".highlight .sr { color: #BB6688 } /* Literal.String.Regex */\n",
       ".highlight .s1 { color: #BA2121 } /* Literal.String.Single */\n",
       ".highlight .ss { color: #19177C } /* Literal.String.Symbol */\n",
       ".highlight .bp { color: #008000 } /* Name.Builtin.Pseudo */\n",
       ".highlight .vc { color: #19177C } /* Name.Variable.Class */\n",
       ".highlight .vg { color: #19177C } /* Name.Variable.Global */\n",
       ".highlight .vi { color: #19177C } /* Name.Variable.Instance */\n",
       ".highlight .il { color: #666666 } /* Literal.Number.Integer.Long */</style><div class=\"highlight\"><pre><span></span><span class=\"cm\">/*</span>\n",
       "<span class=\"cm\">When running this query, we pull out more data than is actually needed. PPN use +/- 10</span>\n",
       "<span class=\"cm\">days&#39; worth of data, and we will do the same eventually. First though, because SQL</span>\n",
       "<span class=\"cm\">isn&#39;t aware of holidays, we actually pull out 20 days&#39; +/- the expiration to give</span>\n",
       "<span class=\"cm\">ourselves a buffer during processing. It&#39;s much easier to handle trading day logic</span>\n",
       "<span class=\"cm\">in Python than it is in SQL calculating trading day difference.</span>\n",
       "<span class=\"cm\"> */</span>\n",
       "<span class=\"k\">SELECT</span>\n",
       "  <span class=\"n\">s</span><span class=\"p\">.</span><span class=\"n\">Ticker</span><span class=\"p\">,</span>\n",
       "  <span class=\"n\">sp</span><span class=\"p\">.</span><span class=\"n\">ClosePrice</span><span class=\"p\">,</span>\n",
       "  <span class=\"n\">sp</span><span class=\"p\">.</span><span class=\"n\">Volume</span><span class=\"p\">,</span>\n",
       "  <span class=\"n\">sp</span><span class=\"p\">.</span><span class=\"nb\">Date</span><span class=\"p\">,</span>\n",
       "  <span class=\"n\">op</span><span class=\"p\">.</span><span class=\"n\">Strike</span><span class=\"p\">,</span>\n",
       "  <span class=\"k\">SUM</span><span class=\"p\">(</span><span class=\"n\">op</span><span class=\"p\">.</span><span class=\"n\">OpenInterest</span><span class=\"p\">)</span> <span class=\"k\">as</span> <span class=\"n\">OpenInterest</span><span class=\"p\">,</span>\n",
       "  <span class=\"c1\">-- Sum the Open Interest to get both calls and puts</span>\n",
       "  <span class=\"n\">op</span><span class=\"p\">.</span><span class=\"n\">Expiration</span>\n",
       "<span class=\"k\">FROM</span> <span class=\"n\">XFDATA</span><span class=\"p\">.</span><span class=\"n\">dbo</span><span class=\"p\">.</span><span class=\"n\">OPTION_PRICE_VIEW</span> <span class=\"n\">op</span>\n",
       "  <span class=\"k\">INNER</span> <span class=\"k\">JOIN</span> <span class=\"n\">XFDATA</span><span class=\"p\">.</span><span class=\"n\">dbo</span><span class=\"p\">.</span><span class=\"n\">SECURITY_PRICE</span> <span class=\"n\">sp</span> <span class=\"k\">ON</span> <span class=\"n\">op</span><span class=\"p\">.</span><span class=\"n\">SecurityID</span> <span class=\"o\">=</span> <span class=\"n\">sp</span><span class=\"p\">.</span><span class=\"n\">SecurityID</span>\n",
       "                                             <span class=\"k\">AND</span> <span class=\"k\">ABS</span><span class=\"p\">(</span><span class=\"n\">DATEDIFF</span><span class=\"p\">(</span><span class=\"k\">DAY</span><span class=\"p\">,</span> <span class=\"n\">op</span><span class=\"p\">.</span><span class=\"n\">Expiration</span><span class=\"p\">,</span> <span class=\"n\">sp</span><span class=\"p\">.</span><span class=\"nb\">Date</span><span class=\"p\">))</span> <span class=\"o\">&lt;</span> <span class=\"mi\">20</span>\n",
       "  <span class=\"k\">INNER</span> <span class=\"k\">JOIN</span> <span class=\"n\">XFDATA</span><span class=\"p\">.</span><span class=\"n\">dbo</span><span class=\"p\">.</span><span class=\"k\">SECURITY</span> <span class=\"n\">s</span> <span class=\"k\">ON</span> <span class=\"n\">sp</span><span class=\"p\">.</span><span class=\"n\">SecurityID</span> <span class=\"o\">=</span> <span class=\"n\">s</span><span class=\"p\">.</span><span class=\"n\">SecurityID</span>\n",
       "<span class=\"k\">WHERE</span> <span class=\"n\">op</span><span class=\"p\">.</span><span class=\"n\">Expiration</span> <span class=\"k\">BETWEEN</span> <span class=\"s1\">&#39;2007-01-01&#39;</span> <span class=\"k\">AND</span> <span class=\"s1\">&#39;2009-01-01&#39;</span>\n",
       "      <span class=\"k\">AND</span> <span class=\"n\">sp</span><span class=\"p\">.</span><span class=\"nb\">Date</span> <span class=\"k\">BETWEEN</span> <span class=\"s1\">&#39;2006-12-01&#39;</span> <span class=\"k\">AND</span> <span class=\"s1\">&#39;2009-02-01&#39;</span> <span class=\"c1\">-- Stock price buffer</span>\n",
       "      <span class=\"k\">AND</span> <span class=\"n\">s</span><span class=\"p\">.</span><span class=\"n\">Ticker</span> <span class=\"k\">IN</span> <span class=\"p\">(</span><span class=\"k\">SELECT</span> <span class=\"n\">sp500</span><span class=\"p\">.</span><span class=\"n\">ticker</span>\n",
       "                       <span class=\"k\">FROM</span> <span class=\"n\">XF</span><span class=\"p\">.</span><span class=\"n\">dbo</span><span class=\"p\">.</span><span class=\"n\">sp500</span><span class=\"p\">)</span>\n",
       "      <span class=\"k\">AND</span> <span class=\"k\">ABS</span><span class=\"p\">(</span><span class=\"n\">DATEDIFF</span><span class=\"p\">(</span><span class=\"k\">DAY</span><span class=\"p\">,</span> <span class=\"n\">sp</span><span class=\"p\">.</span><span class=\"nb\">Date</span><span class=\"p\">,</span> <span class=\"n\">op</span><span class=\"p\">.</span><span class=\"n\">Expiration</span><span class=\"p\">))</span> <span class=\"o\">&lt;</span> <span class=\"mi\">20</span>\n",
       "\n",
       "<span class=\"c1\">-- Massive GROUP BY clause cuts down on duplicate data we don&#39;t</span>\n",
       "<span class=\"c1\">-- need that is introduced by other parameters being unique</span>\n",
       "<span class=\"k\">GROUP</span> <span class=\"k\">BY</span>\n",
       "  <span class=\"n\">s</span><span class=\"p\">.</span><span class=\"n\">Ticker</span><span class=\"p\">,</span>\n",
       "  <span class=\"n\">sp</span><span class=\"p\">.</span><span class=\"n\">ClosePrice</span><span class=\"p\">,</span>\n",
       "  <span class=\"n\">sp</span><span class=\"p\">.</span><span class=\"n\">Volume</span><span class=\"p\">,</span>\n",
       "  <span class=\"n\">sp</span><span class=\"p\">.</span><span class=\"nb\">Date</span><span class=\"p\">,</span>\n",
       "  <span class=\"n\">op</span><span class=\"p\">.</span><span class=\"n\">Strike</span><span class=\"p\">,</span>\n",
       "  <span class=\"n\">op</span><span class=\"p\">.</span><span class=\"n\">Expiration</span>\n",
       "\n",
       "<span class=\"k\">ORDER</span> <span class=\"k\">BY</span> <span class=\"n\">s</span><span class=\"p\">.</span><span class=\"n\">Ticker</span><span class=\"p\">,</span> <span class=\"n\">sp</span><span class=\"p\">.</span><span class=\"nb\">Date</span><span class=\"p\">,</span> <span class=\"n\">op</span><span class=\"p\">.</span><span class=\"n\">Strike</span>\n",
       "</pre></div>\n"
      ],
      "text/plain": [
       "<IPython.core.display.HTML object>"
      ]
     },
     "metadata": {},
     "output_type": "display_data"
    }
   ],
   "source": [
    "q2a_data = nbprint_and_query('Q2a.sql')\n",
    "q2a_data.to_csv('q2a_data.csv')"
   ]
  },
  {
   "cell_type": "code",
   "execution_count": 2,
   "metadata": {
    "collapsed": false
   },
   "outputs": [],
   "source": [
    "import pandas as pd\n",
    "\n",
    "from trading_days import TradingDay\n",
    "\n",
    "# Code run before this to retrieve data:\n",
    "#q2a_data = nbprint_and_query('Q2a.sql')\n",
    "#q2a_data.to_csv('q2a_data.csv')\n",
    "\n",
    "q2a_data = pd.read_csv('q2a_data.csv',\n",
    "                       parse_dates=['Date', 'Expiration'],\n",
    "                       index_col=0)\n",
    "q2a_data['AdjStrike'] = q2a_data['Strike'] / 1000."
   ]
  },
  {
   "cell_type": "code",
   "execution_count": 3,
   "metadata": {
    "collapsed": false
   },
   "outputs": [
    {
     "data": {
      "text/html": [
       "<div>\n",
       "<table border=\"1\" class=\"dataframe\">\n",
       "  <thead>\n",
       "    <tr style=\"text-align: right;\">\n",
       "      <th></th>\n",
       "      <th>Ticker</th>\n",
       "      <th>ClosePrice</th>\n",
       "      <th>Volume</th>\n",
       "      <th>Date</th>\n",
       "      <th>Strike</th>\n",
       "      <th>OpenInterest</th>\n",
       "      <th>Expiration</th>\n",
       "      <th>AdjStrike</th>\n",
       "    </tr>\n",
       "  </thead>\n",
       "  <tbody>\n",
       "    <tr>\n",
       "      <th>26</th>\n",
       "      <td>A</td>\n",
       "      <td>34.09</td>\n",
       "      <td>2676600</td>\n",
       "      <td>2007-01-05</td>\n",
       "      <td>15000</td>\n",
       "      <td>1095454</td>\n",
       "      <td>2007-01-20</td>\n",
       "      <td>15.0</td>\n",
       "    </tr>\n",
       "    <tr>\n",
       "      <th>27</th>\n",
       "      <td>A</td>\n",
       "      <td>34.09</td>\n",
       "      <td>2676600</td>\n",
       "      <td>2007-01-05</td>\n",
       "      <td>17500</td>\n",
       "      <td>86720</td>\n",
       "      <td>2007-01-20</td>\n",
       "      <td>17.5</td>\n",
       "    </tr>\n",
       "    <tr>\n",
       "      <th>28</th>\n",
       "      <td>A</td>\n",
       "      <td>34.09</td>\n",
       "      <td>2676600</td>\n",
       "      <td>2007-01-05</td>\n",
       "      <td>20000</td>\n",
       "      <td>1033137</td>\n",
       "      <td>2007-01-20</td>\n",
       "      <td>20.0</td>\n",
       "    </tr>\n",
       "    <tr>\n",
       "      <th>29</th>\n",
       "      <td>A</td>\n",
       "      <td>34.09</td>\n",
       "      <td>2676600</td>\n",
       "      <td>2007-01-05</td>\n",
       "      <td>22500</td>\n",
       "      <td>75416</td>\n",
       "      <td>2007-01-20</td>\n",
       "      <td>22.5</td>\n",
       "    </tr>\n",
       "    <tr>\n",
       "      <th>30</th>\n",
       "      <td>A</td>\n",
       "      <td>34.09</td>\n",
       "      <td>2676600</td>\n",
       "      <td>2007-01-05</td>\n",
       "      <td>25000</td>\n",
       "      <td>3206691</td>\n",
       "      <td>2007-01-20</td>\n",
       "      <td>25.0</td>\n",
       "    </tr>\n",
       "  </tbody>\n",
       "</table>\n",
       "</div>"
      ],
      "text/plain": [
       "    Ticker  ClosePrice   Volume       Date  Strike  OpenInterest Expiration  \\\n",
       "26  A            34.09  2676600 2007-01-05   15000       1095454 2007-01-20   \n",
       "27  A            34.09  2676600 2007-01-05   17500         86720 2007-01-20   \n",
       "28  A            34.09  2676600 2007-01-05   20000       1033137 2007-01-20   \n",
       "29  A            34.09  2676600 2007-01-05   22500         75416 2007-01-20   \n",
       "30  A            34.09  2676600 2007-01-05   25000       3206691 2007-01-20   \n",
       "\n",
       "    AdjStrike  \n",
       "26       15.0  \n",
       "27       17.5  \n",
       "28       20.0  \n",
       "29       22.5  \n",
       "30       25.0  "
      ]
     },
     "execution_count": 3,
     "metadata": {},
     "output_type": "execute_result"
    }
   ],
   "source": [
    "from datetime import datetime, timedelta\n",
    "from itertools import chain\n",
    "# Now, we've actually retrieved too much data.\n",
    "# We first want to filter down to things that are actually +/- 10 trading days\n",
    "# of an expiration. First, get all trading days, then build out all possible\n",
    "# days, then filter where date is in that list of possible days.\n",
    "def flatmap(f, items):\n",
    "    return list(chain.from_iterable(map(f, items)))\n",
    "\n",
    "def trading_window(date):\n",
    "    return [TradingDay(n) + date\n",
    "            for n in range(-10, 11)]\n",
    "\n",
    "trading_days = flatmap(trading_window, q2a_data['Expiration'].unique())\n",
    "\n",
    "q2a_valid_data = q2a_data[q2a_data['Date'].isin(trading_days)]\n",
    "q2a_valid_data.head()"
   ]
  },
  {
   "cell_type": "code",
   "execution_count": 4,
   "metadata": {
    "collapsed": false
   },
   "outputs": [
    {
     "name": "stderr",
     "output_type": "stream",
     "text": [
      "C:\\Users\\Bradlee Speice\\Anaconda3\\lib\\site-packages\\ipykernel\\__main__.py:10: SettingWithCopyWarning: \n",
      "A value is trying to be set on a copy of a slice from a DataFrame.\n",
      "Try using .loc[row_indexer,col_indexer] = value instead\n",
      "\n",
      "See the caveats in the documentation: http://pandas.pydata.org/pandas-docs/stable/indexing.html#indexing-view-versus-copy\n"
     ]
    }
   ],
   "source": [
    "# Now comes the fun part. Currently we have all strikes,\n",
    "# and we essentially want to filter this down to only ATM strikes.\n",
    "# Once we've accomplished that, the rest of this analysis becomes trivial\n",
    "from datetime import timedelta\n",
    "def find_atm_strike(df):\n",
    "    # Expiration is marked as a Saturday in Ivy, so we need to do\n",
    "    # df['Date'] + 1 to compensate\n",
    "    prices_at_expiration = df[df['Expiration'] == df['Date'] + timedelta(days=1)]\n",
    "    prices_at_expiration['Diff'] = (prices_at_expiration['AdjStrike'] -\n",
    "                                    prices_at_expiration['ClosePrice']).abs()\n",
    "    # And get the strike with minimum difference from close\n",
    "    # We first sort ordering smallest difference first, get the first row\n",
    "    # (i.e. minimum) and then its actual value\n",
    "    try:\n",
    "        atm_strike = (prices_at_expiration.sort_values('Diff')\n",
    "                      .head(1)['AdjStrike'].values[0])\n",
    "    except IndexError:\n",
    "        atm_strike = 0\n",
    "        \n",
    "    return atm_strike\n",
    "    \n",
    "def filter_atm(df):\n",
    "    return df[df['AdjStrike'] == find_atm_strike(df)]\n",
    "\n",
    "q2a_groups = q2a_valid_data.groupby(['Expiration', 'Ticker'])\n",
    "q2a_atm = pd.concat([filter_atm(df) for groupname, df in q2a_groups])"
   ]
  },
  {
   "cell_type": "code",
   "execution_count": 6,
   "metadata": {
    "collapsed": true
   },
   "outputs": [],
   "source": [
    "q2a_atm.to_csv('q2a_atm.csv')"
   ]
  },
  {
   "cell_type": "code",
   "execution_count": null,
   "metadata": {
    "collapsed": false
   },
   "outputs": [],
   "source": [
    "# Now we need to build out the 'score' we will be binning on.\n",
    "# The 'score' is defined as Open Interest / Avg. daily volume for\n",
    "# the five days before expiration.\n",
    "# The way we go about doing this is to first calculate for each row\n",
    "# how many business days there are before expiration. We will re-use\n",
    "# this data later in actually building the chart. Once this is done,\n",
    "# we can define the score column in a vectorized form, which will make\n",
    "# it much faster to calculate relative to the filtering we've done so far.\n",
    "def bus_days_between(start, end):\n",
    "    return len(pd.date_range(start=start, end=end, freq=TradingDay(1)))\n",
    "\n"
   ]
  }
 ],
 "metadata": {
  "anaconda-cloud": {},
  "kernelspec": {
   "display_name": "Python [Root]",
   "language": "python",
   "name": "Python [Root]"
  },
  "language_info": {
   "codemirror_mode": {
    "name": "ipython",
    "version": 3
   },
   "file_extension": ".py",
   "mimetype": "text/x-python",
   "name": "python",
   "nbconvert_exporter": "python",
   "pygments_lexer": "ipython3",
   "version": "3.5.2"
  }
 },
 "nbformat": 4,
 "nbformat_minor": 0
}
