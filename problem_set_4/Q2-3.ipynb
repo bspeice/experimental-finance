{
 "cells": [
  {
   "cell_type": "code",
   "execution_count": 1,
   "metadata": {
    "collapsed": true
   },
   "outputs": [],
   "source": [
    "import sys\n",
    "sys.path.append('../utils/')\n",
    "\n",
    "from query import query_dataframe_f, pprint_query, nbprint_and_query\n",
    "use_latex = False"
   ]
  },
  {
   "cell_type": "markdown",
   "metadata": {},
   "source": [
    "# Question 2"
   ]
  },
  {
   "cell_type": "code",
   "execution_count": null,
   "metadata": {
    "collapsed": false
   },
   "outputs": [
    {
     "data": {
      "text/html": [
       "<style type=\"text/css\">.highlight .hll { background-color: #ffffcc }\n",
       ".highlight  { background: #f8f8f8; }\n",
       ".highlight .c { color: #408080; font-style: italic } /* Comment */\n",
       ".highlight .err { border: 1px solid #FF0000 } /* Error */\n",
       ".highlight .k { color: #008000; font-weight: bold } /* Keyword */\n",
       ".highlight .o { color: #666666 } /* Operator */\n",
       ".highlight .ch { color: #408080; font-style: italic } /* Comment.Hashbang */\n",
       ".highlight .cm { color: #408080; font-style: italic } /* Comment.Multiline */\n",
       ".highlight .cp { color: #BC7A00 } /* Comment.Preproc */\n",
       ".highlight .cpf { color: #408080; font-style: italic } /* Comment.PreprocFile */\n",
       ".highlight .c1 { color: #408080; font-style: italic } /* Comment.Single */\n",
       ".highlight .cs { color: #408080; font-style: italic } /* Comment.Special */\n",
       ".highlight .gd { color: #A00000 } /* Generic.Deleted */\n",
       ".highlight .ge { font-style: italic } /* Generic.Emph */\n",
       ".highlight .gr { color: #FF0000 } /* Generic.Error */\n",
       ".highlight .gh { color: #000080; font-weight: bold } /* Generic.Heading */\n",
       ".highlight .gi { color: #00A000 } /* Generic.Inserted */\n",
       ".highlight .go { color: #888888 } /* Generic.Output */\n",
       ".highlight .gp { color: #000080; font-weight: bold } /* Generic.Prompt */\n",
       ".highlight .gs { font-weight: bold } /* Generic.Strong */\n",
       ".highlight .gu { color: #800080; font-weight: bold } /* Generic.Subheading */\n",
       ".highlight .gt { color: #0044DD } /* Generic.Traceback */\n",
       ".highlight .kc { color: #008000; font-weight: bold } /* Keyword.Constant */\n",
       ".highlight .kd { color: #008000; font-weight: bold } /* Keyword.Declaration */\n",
       ".highlight .kn { color: #008000; font-weight: bold } /* Keyword.Namespace */\n",
       ".highlight .kp { color: #008000 } /* Keyword.Pseudo */\n",
       ".highlight .kr { color: #008000; font-weight: bold } /* Keyword.Reserved */\n",
       ".highlight .kt { color: #B00040 } /* Keyword.Type */\n",
       ".highlight .m { color: #666666 } /* Literal.Number */\n",
       ".highlight .s { color: #BA2121 } /* Literal.String */\n",
       ".highlight .na { color: #7D9029 } /* Name.Attribute */\n",
       ".highlight .nb { color: #008000 } /* Name.Builtin */\n",
       ".highlight .nc { color: #0000FF; font-weight: bold } /* Name.Class */\n",
       ".highlight .no { color: #880000 } /* Name.Constant */\n",
       ".highlight .nd { color: #AA22FF } /* Name.Decorator */\n",
       ".highlight .ni { color: #999999; font-weight: bold } /* Name.Entity */\n",
       ".highlight .ne { color: #D2413A; font-weight: bold } /* Name.Exception */\n",
       ".highlight .nf { color: #0000FF } /* Name.Function */\n",
       ".highlight .nl { color: #A0A000 } /* Name.Label */\n",
       ".highlight .nn { color: #0000FF; font-weight: bold } /* Name.Namespace */\n",
       ".highlight .nt { color: #008000; font-weight: bold } /* Name.Tag */\n",
       ".highlight .nv { color: #19177C } /* Name.Variable */\n",
       ".highlight .ow { color: #AA22FF; font-weight: bold } /* Operator.Word */\n",
       ".highlight .w { color: #bbbbbb } /* Text.Whitespace */\n",
       ".highlight .mb { color: #666666 } /* Literal.Number.Bin */\n",
       ".highlight .mf { color: #666666 } /* Literal.Number.Float */\n",
       ".highlight .mh { color: #666666 } /* Literal.Number.Hex */\n",
       ".highlight .mi { color: #666666 } /* Literal.Number.Integer */\n",
       ".highlight .mo { color: #666666 } /* Literal.Number.Oct */\n",
       ".highlight .sb { color: #BA2121 } /* Literal.String.Backtick */\n",
       ".highlight .sc { color: #BA2121 } /* Literal.String.Char */\n",
       ".highlight .sd { color: #BA2121; font-style: italic } /* Literal.String.Doc */\n",
       ".highlight .s2 { color: #BA2121 } /* Literal.String.Double */\n",
       ".highlight .se { color: #BB6622; font-weight: bold } /* Literal.String.Escape */\n",
       ".highlight .sh { color: #BA2121 } /* Literal.String.Heredoc */\n",
       ".highlight .si { color: #BB6688; font-weight: bold } /* Literal.String.Interpol */\n",
       ".highlight .sx { color: #008000 } /* Literal.String.Other */\n",
       ".highlight .sr { color: #BB6688 } /* Literal.String.Regex */\n",
       ".highlight .s1 { color: #BA2121 } /* Literal.String.Single */\n",
       ".highlight .ss { color: #19177C } /* Literal.String.Symbol */\n",
       ".highlight .bp { color: #008000 } /* Name.Builtin.Pseudo */\n",
       ".highlight .vc { color: #19177C } /* Name.Variable.Class */\n",
       ".highlight .vg { color: #19177C } /* Name.Variable.Global */\n",
       ".highlight .vi { color: #19177C } /* Name.Variable.Instance */\n",
       ".highlight .il { color: #666666 } /* Literal.Number.Integer.Long */</style><div class=\"highlight\"><pre><span></span><span class=\"cm\">/*</span>\n",
       "<span class=\"cm\">When running this query, we pull out more data than is actually needed. PPN use +/- 10</span>\n",
       "<span class=\"cm\">days&#39; worth of data, and we will do the same eventually. First though, because SQL</span>\n",
       "<span class=\"cm\">isn&#39;t aware of holidays, we actually pull out 20 days&#39; +/- the expiration to give</span>\n",
       "<span class=\"cm\">ourselves a buffer during processing. It&#39;s much easier to handle trading day logic</span>\n",
       "<span class=\"cm\">in Python than it is in SQL calculating trading day differences.</span>\n",
       "<span class=\"cm\"> */</span>\n",
       "<span class=\"k\">WITH</span> <span class=\"n\">strike_diff</span> <span class=\"k\">as</span> <span class=\"p\">(</span>\n",
       "    <span class=\"k\">SELECT</span>\n",
       "      <span class=\"n\">s</span><span class=\"p\">.</span><span class=\"n\">Ticker</span><span class=\"p\">,</span>\n",
       "      <span class=\"n\">sp</span><span class=\"p\">.</span><span class=\"n\">ClosePrice</span><span class=\"p\">,</span>\n",
       "      <span class=\"n\">sp</span><span class=\"p\">.</span><span class=\"n\">Volume</span><span class=\"p\">,</span>\n",
       "      <span class=\"n\">sp</span><span class=\"p\">.</span><span class=\"nb\">Date</span><span class=\"p\">,</span>\n",
       "      <span class=\"n\">op</span><span class=\"p\">.</span><span class=\"n\">Strike</span><span class=\"p\">,</span>\n",
       "      <span class=\"c1\">-- Sum the Open Interest to get both calls and puts</span>\n",
       "      <span class=\"k\">SUM</span><span class=\"p\">(</span><span class=\"n\">op</span><span class=\"p\">.</span><span class=\"n\">OpenInterest</span><span class=\"p\">)</span>                               <span class=\"k\">AS</span> <span class=\"n\">OpenInterest</span><span class=\"p\">,</span>\n",
       "      <span class=\"n\">op</span><span class=\"p\">.</span><span class=\"n\">Expiration</span><span class=\"p\">,</span>\n",
       "      <span class=\"c1\">-- AVG ignores NULL values, so if we have an invalid ImpliedVolatility we can just</span>\n",
       "      <span class=\"c1\">-- set it to NULL to exclude it from calculations. Then the correct value is</span>\n",
       "      <span class=\"c1\">-- applied everywhere</span>\n",
       "      <span class=\"k\">AVG</span><span class=\"p\">(</span><span class=\"k\">CASE</span> <span class=\"k\">WHEN</span> <span class=\"n\">op</span><span class=\"p\">.</span><span class=\"n\">ImpliedVolatility</span> <span class=\"o\">&lt;=</span> <span class=\"mi\">0</span> <span class=\"k\">THEN</span> <span class=\"k\">NULL</span> <span class=\"k\">ELSE</span> <span class=\"n\">op</span><span class=\"p\">.</span><span class=\"n\">ImpliedVolatility</span> <span class=\"k\">END</span><span class=\"p\">)</span> <span class=\"k\">as</span> <span class=\"n\">ImpliedVolatility</span><span class=\"p\">,</span>\n",
       "      <span class=\"k\">ABS</span><span class=\"p\">(</span><span class=\"n\">sp</span><span class=\"p\">.</span><span class=\"n\">ClosePrice</span> <span class=\"o\">-</span> <span class=\"n\">XF</span><span class=\"p\">.</span><span class=\"n\">dbo</span><span class=\"p\">.</span><span class=\"n\">formatStrike</span><span class=\"p\">(</span><span class=\"n\">op</span><span class=\"p\">.</span><span class=\"n\">Strike</span><span class=\"p\">))</span> <span class=\"k\">AS</span> <span class=\"n\">StrikeDiff</span>\n",
       "    <span class=\"k\">FROM</span> <span class=\"n\">XFDATA</span><span class=\"p\">.</span><span class=\"n\">dbo</span><span class=\"p\">.</span><span class=\"n\">OPTION_PRICE_VIEW</span> <span class=\"n\">op</span>\n",
       "      <span class=\"k\">INNER</span> <span class=\"k\">JOIN</span> <span class=\"n\">XFDATA</span><span class=\"p\">.</span><span class=\"n\">dbo</span><span class=\"p\">.</span><span class=\"n\">SECURITY_PRICE</span> <span class=\"n\">sp</span> <span class=\"k\">ON</span> <span class=\"n\">op</span><span class=\"p\">.</span><span class=\"n\">SecurityID</span> <span class=\"o\">=</span> <span class=\"n\">sp</span><span class=\"p\">.</span><span class=\"n\">SecurityID</span>\n",
       "                                                 <span class=\"k\">AND</span> <span class=\"k\">ABS</span><span class=\"p\">(</span><span class=\"n\">DATEDIFF</span><span class=\"p\">(</span><span class=\"k\">DAY</span><span class=\"p\">,</span> <span class=\"n\">op</span><span class=\"p\">.</span><span class=\"n\">Expiration</span><span class=\"p\">,</span> <span class=\"n\">sp</span><span class=\"p\">.</span><span class=\"nb\">Date</span><span class=\"p\">))</span> <span class=\"o\">&lt;</span> <span class=\"mi\">20</span>\n",
       "      <span class=\"k\">INNER</span> <span class=\"k\">JOIN</span> <span class=\"n\">XFDATA</span><span class=\"p\">.</span><span class=\"n\">dbo</span><span class=\"p\">.</span><span class=\"k\">SECURITY</span> <span class=\"n\">s</span> <span class=\"k\">ON</span> <span class=\"n\">sp</span><span class=\"p\">.</span><span class=\"n\">SecurityID</span> <span class=\"o\">=</span> <span class=\"n\">s</span><span class=\"p\">.</span><span class=\"n\">SecurityID</span>\n",
       "    <span class=\"k\">WHERE</span> <span class=\"n\">op</span><span class=\"p\">.</span><span class=\"n\">Expiration</span> <span class=\"k\">BETWEEN</span> <span class=\"s1\">&#39;2007-01-01&#39;</span> <span class=\"k\">AND</span> <span class=\"s1\">&#39;2009-01-01&#39;</span>\n",
       "          <span class=\"k\">AND</span> <span class=\"n\">sp</span><span class=\"p\">.</span><span class=\"nb\">Date</span> <span class=\"k\">BETWEEN</span> <span class=\"s1\">&#39;2006-12-01&#39;</span> <span class=\"k\">AND</span> <span class=\"s1\">&#39;2009-02-01&#39;</span> <span class=\"c1\">-- Stock price buffer</span>\n",
       "          <span class=\"k\">AND</span> <span class=\"n\">s</span><span class=\"p\">.</span><span class=\"n\">Ticker</span> <span class=\"k\">IN</span> <span class=\"p\">(</span><span class=\"k\">SELECT</span> <span class=\"n\">sp500</span><span class=\"p\">.</span><span class=\"n\">ticker</span>\n",
       "                           <span class=\"k\">FROM</span> <span class=\"n\">XF</span><span class=\"p\">.</span><span class=\"n\">dbo</span><span class=\"p\">.</span><span class=\"n\">sp500</span><span class=\"p\">)</span>\n",
       "          <span class=\"k\">AND</span> <span class=\"k\">ABS</span><span class=\"p\">(</span><span class=\"n\">DATEDIFF</span><span class=\"p\">(</span><span class=\"k\">DAY</span><span class=\"p\">,</span> <span class=\"n\">sp</span><span class=\"p\">.</span><span class=\"nb\">Date</span><span class=\"p\">,</span> <span class=\"n\">op</span><span class=\"p\">.</span><span class=\"n\">Expiration</span><span class=\"p\">))</span> <span class=\"o\">&lt;</span> <span class=\"mi\">20</span>\n",
       "\n",
       "    <span class=\"c1\">-- Massive GROUP BY clause cuts down on duplicate data we don&#39;t</span>\n",
       "    <span class=\"c1\">-- need that is introduced by other parameters being unique</span>\n",
       "    <span class=\"k\">GROUP</span> <span class=\"k\">BY</span>\n",
       "      <span class=\"n\">s</span><span class=\"p\">.</span><span class=\"n\">Ticker</span><span class=\"p\">,</span>\n",
       "      <span class=\"n\">sp</span><span class=\"p\">.</span><span class=\"n\">ClosePrice</span><span class=\"p\">,</span>\n",
       "      <span class=\"n\">sp</span><span class=\"p\">.</span><span class=\"n\">Volume</span><span class=\"p\">,</span>\n",
       "      <span class=\"n\">sp</span><span class=\"p\">.</span><span class=\"nb\">Date</span><span class=\"p\">,</span>\n",
       "      <span class=\"n\">op</span><span class=\"p\">.</span><span class=\"n\">Strike</span><span class=\"p\">,</span>\n",
       "      <span class=\"n\">op</span><span class=\"p\">.</span><span class=\"n\">Expiration</span>\n",
       "<span class=\"p\">)</span>\n",
       "\n",
       "<span class=\"k\">SELECT</span> <span class=\"n\">strike_diff</span><span class=\"p\">.</span><span class=\"o\">*</span>\n",
       "<span class=\"k\">FROM</span> <span class=\"n\">strike_diff</span>\n",
       "  <span class=\"k\">INNER</span> <span class=\"k\">JOIN</span> <span class=\"p\">(</span>\n",
       "    <span class=\"c1\">-- We don&#39;t need to group on expiration as well, since</span>\n",
       "    <span class=\"c1\">-- that doesn&#39;t affect what is currently ATM</span>\n",
       "    <span class=\"k\">SELECT</span> <span class=\"k\">MIN</span><span class=\"p\">(</span><span class=\"n\">strike_diff</span><span class=\"p\">.</span><span class=\"n\">StrikeDiff</span><span class=\"p\">)</span> <span class=\"k\">as</span> <span class=\"n\">StrikeDiff</span><span class=\"p\">,</span>\n",
       "      <span class=\"n\">strike_diff</span><span class=\"p\">.</span><span class=\"nb\">Date</span><span class=\"p\">,</span>\n",
       "      <span class=\"n\">strike_diff</span><span class=\"p\">.</span><span class=\"n\">Ticker</span>\n",
       "    <span class=\"k\">FROM</span> <span class=\"n\">strike_diff</span>\n",
       "    <span class=\"k\">GROUP</span> <span class=\"k\">BY</span> <span class=\"n\">strike_diff</span><span class=\"p\">.</span><span class=\"nb\">Date</span><span class=\"p\">,</span> <span class=\"n\">strike_diff</span><span class=\"p\">.</span><span class=\"n\">Ticker</span>\n",
       "    <span class=\"p\">)</span> <span class=\"n\">sd_grouped</span> <span class=\"k\">ON</span> <span class=\"n\">strike_diff</span><span class=\"p\">.</span><span class=\"n\">StrikeDiff</span> <span class=\"o\">=</span> <span class=\"n\">sd_grouped</span><span class=\"p\">.</span><span class=\"n\">StrikeDiff</span>\n",
       "                    <span class=\"k\">AND</span> <span class=\"n\">strike_diff</span><span class=\"p\">.</span><span class=\"nb\">Date</span> <span class=\"o\">=</span> <span class=\"n\">sd_grouped</span><span class=\"p\">.</span><span class=\"nb\">Date</span>\n",
       "                    <span class=\"k\">AND</span> <span class=\"n\">strike_diff</span><span class=\"p\">.</span><span class=\"n\">Ticker</span> <span class=\"o\">=</span> <span class=\"n\">sd_grouped</span><span class=\"p\">.</span><span class=\"n\">Ticker</span>\n",
       "\n",
       "<span class=\"k\">ORDER</span> <span class=\"k\">BY</span> <span class=\"n\">strike_diff</span><span class=\"p\">.</span><span class=\"n\">Ticker</span><span class=\"p\">,</span> <span class=\"n\">strike_diff</span><span class=\"p\">.</span><span class=\"nb\">Date</span><span class=\"p\">,</span> <span class=\"n\">strike_diff</span><span class=\"p\">.</span><span class=\"n\">Strike</span>\n",
       "</pre></div>\n"
      ],
      "text/plain": [
       "<IPython.core.display.HTML object>"
      ]
     },
     "metadata": {},
     "output_type": "display_data"
    }
   ],
   "source": [
    "q2_data = nbprint_and_query('Q2_atm.sql')\n",
    "q2_data.to_csv('q2_data.csv')"
   ]
  },
  {
   "cell_type": "code",
   "execution_count": null,
   "metadata": {
    "collapsed": false
   },
   "outputs": [],
   "source": [
    "import pandas as pd\n",
    "from datetime import datetime, timedelta\n",
    "\n",
    "from trading_days import TradingDay\n",
    "\n",
    "# Code run before this to retrieve data:\n",
    "#q2a_data = nbprint_and_query('Q2a.sql')\n",
    "#q2a_data.to_csv('q2a_data.csv')\n",
    "\n",
    "q2_data = pd.read_csv('q2_data.csv',\n",
    "                      parse_dates=['Date', 'Expiration'],\n",
    "                      index_col=0)\n",
    "q2_data['AdjStrike'] = q2_data['Strike'] / 1000.\n",
    "q2_data['ActualExpiration'] = q2_data['Expiration'] - timedelta(days=1)"
   ]
  },
  {
   "cell_type": "code",
   "execution_count": null,
   "metadata": {
    "collapsed": false
   },
   "outputs": [],
   "source": [
    "from datetime import datetime, timedelta\n",
    "from itertools import chain\n",
    "# Now, we've actually retrieved too much data.\n",
    "# We first want to filter down to things that are actually +/- 10 trading days\n",
    "# of an expiration. First, get all trading days, then build out all possible\n",
    "# days, then filter where date is in that list of possible days.\n",
    "def flatmap(f, items):\n",
    "    return list(chain.from_iterable(map(f, items)))\n",
    "\n",
    "def trading_window(date):\n",
    "    return [TradingDay(n) + date\n",
    "            for n in range(-11, 11)]\n",
    "\n",
    "trading_days = flatmap(trading_window, q2_data['ActualExpiration'].unique())\n",
    "\n",
    "q2_valid_data = q2_data[q2_data['Date'].isin(trading_days)]\n",
    "q2_valid_data.head()"
   ]
  },
  {
   "cell_type": "code",
   "execution_count": null,
   "metadata": {
    "collapsed": false
   },
   "outputs": [],
   "source": [
    "# Now we need to build out the 'score' we will be binning on.\n",
    "# The 'score' is defined as Open Interest / Avg. daily volume for\n",
    "# the five days before expiration.\n",
    "# The way we go about doing this is to first calculate for each row\n",
    "# how many business days there are before expiration. We will re-use\n",
    "# this data later in actually building the chart. Once this is done,\n",
    "# we can define the score column in a vectorized form, which will make\n",
    "# it much faster to calculate relative to the filtering we've done so far.\n",
    "def bus_days_between(start, end):\n",
    "    if start.date() == end.date():\n",
    "        return 0\n",
    "    elif start < end:\n",
    "        return len(pd.date_range(start=start.date(),\n",
    "                                 end=end.date(),\n",
    "                                 closed='left',\n",
    "                                 freq=TradingDay(1)))\n",
    "    else:\n",
    "        return -len(pd.date_range(start=end.date(),\n",
    "                                  end=start.date(),\n",
    "                                  closed='left',\n",
    "                                  freq=TradingDay(1)))\n",
    "    \n",
    "q2_data['DeltaExpiration'] = q2_data.apply(\n",
    "    lambda r: bus_days_between(r.Date, r.ActualExpiration),\n",
    "    1)"
   ]
  },
  {
   "cell_type": "code",
   "execution_count": null,
   "metadata": {
    "collapsed": false
   },
   "outputs": [],
   "source": [
    "import numpy as np\n",
    "\n",
    "def score(group):\n",
    "    group['Score'] = group['OpenInterest'] / group[\n",
    "        (group['DeltaExpiration'] >= 1) & (group['DeltaExpiration'] <= 5)\n",
    "    ]['ClosePrice'].std()\n",
    "    return group\n",
    "\n",
    "q2_data_scored = q2_data.groupby(['Ticker', 'Expiration']).apply(score)\n",
    "\n",
    "def did_pin(group):\n",
    "    group['Pinned'] = np.abs(group['ClosePrice'] - group['AdjStrike']) < .125\n",
    "    return group\n",
    "\n",
    "q2_pinned = q2_data_scored.groupby(['Ticker', 'Expiration']).apply(did_pin)\n",
    "q2_pinned.to_csv('q2_pinned.csv')"
   ]
  },
  {
   "cell_type": "code",
   "execution_count": null,
   "metadata": {
    "collapsed": false
   },
   "outputs": [],
   "source": [
    "bins = np.percentile(q2_pinned['Score'], [25, 50, 75])"
   ]
  },
  {
   "cell_type": "code",
   "execution_count": null,
   "metadata": {
    "collapsed": false
   },
   "outputs": [],
   "source": [
    "q2_pinned.head(400)"
   ]
  },
  {
   "cell_type": "code",
   "execution_count": null,
   "metadata": {
    "collapsed": true
   },
   "outputs": [],
   "source": [
    "ppn_1 = q2_pinned[q2_pinned['Score'] <= bins[0]]\n",
    "ppn_2 = q2_pinned[\n",
    "    (q2_pinned['Score'] > bins[0]) & (q2_pinned['Score'] < bins[1])\n",
    "]\n",
    "ppn_3 = q2_pinned[\n",
    "    (q2_pinned['Score'] > bins[1]) & (q2_pinned['Score'] < bins[2])\n",
    "]\n",
    "ppn_4 = q2_pinned[q2_pinned['Score'] > bins[2]]"
   ]
  },
  {
   "cell_type": "code",
   "execution_count": null,
   "metadata": {
    "collapsed": false
   },
   "outputs": [],
   "source": [
    "%matplotlib inline\n",
    "ppn_1.groupby(['DeltaExpiration']).mean().head(40)#['Pinned'].plot(kind='bar', by='DeltaExpiration')"
   ]
  },
  {
   "cell_type": "code",
   "execution_count": null,
   "metadata": {
    "collapsed": false
   },
   "outputs": [],
   "source": [
    "ppn_2.groupby(['DeltaExpiration']).mean()['Pinned'].plot(kind='bar', by='DeltaExpiration')"
   ]
  },
  {
   "cell_type": "code",
   "execution_count": null,
   "metadata": {
    "collapsed": false
   },
   "outputs": [],
   "source": [
    "ppn_3.groupby(['DeltaExpiration']).mean()['Pinned'].plot(kind='bar', by='DeltaExpiration')"
   ]
  },
  {
   "cell_type": "code",
   "execution_count": null,
   "metadata": {
    "collapsed": false
   },
   "outputs": [],
   "source": [
    "ppn_4.groupby(['DeltaExpiration']).mean()['Pinned'].plot(kind='bar', by='DeltaExpiration')"
   ]
  },
  {
   "cell_type": "markdown",
   "metadata": {},
   "source": [
    "# Problem 2b.\n",
    "\n",
    "We now repeat the same analysis for the entire marketplace (all optionable securities)."
   ]
  },
  {
   "cell_type": "code",
   "execution_count": null,
   "metadata": {
    "collapsed": true
   },
   "outputs": [],
   "source": [
    "def score(group):\n",
    "    group['Score2'] = group['OpenInterest'] / group[\n",
    "        (group['DeltaExpiration'] >= 1) & (group['DeltaExpiration'] <= 5)\n",
    "    ]['ClosePrice'].std() / group['ImpliedVolatility']\n",
    "    return group\n",
    "\n",
    "q2_atm_scored = q2_atm.groupby(['Ticker', 'Expiration']).apply(score)"
   ]
  },
  {
   "cell_type": "code",
   "execution_count": null,
   "metadata": {
    "collapsed": true
   },
   "outputs": [],
   "source": [
    "import numpy as np\n",
    "bins = np.percentile(q2_atm_scored['Score2'], [25, 50, 75])"
   ]
  },
  {
   "cell_type": "code",
   "execution_count": null,
   "metadata": {
    "collapsed": true
   },
   "outputs": [],
   "source": [
    "ppn_1 = q2_atm_pinned[q2_atm_scored['Score2'] <= bins[0]]\n",
    "ppn_2 = q2_atm_pinned[\n",
    "    (q2_atm_pinned['Score2'] > bins[0]) & (q2_atm_pinned['Score2'] < bins[1])\n",
    "]\n",
    "ppn_3 = q2_atm_pinned[\n",
    "    (q2_atm_pinned['Score2'] > bins[1]) & (q2_atm_pinned['Score2'] < bins[2])\n",
    "]\n",
    "ppn_4 = q2_atm_pinned[q2_atm_scored['Score2'] > bins[2]]"
   ]
  },
  {
   "cell_type": "code",
   "execution_count": null,
   "metadata": {
    "collapsed": true
   },
   "outputs": [],
   "source": [
    "ppn_1.groupby(['DeltaExpiration']).mean()['Pinned'].plot(kind='bar', by='DeltaExpiration')"
   ]
  },
  {
   "cell_type": "code",
   "execution_count": null,
   "metadata": {
    "collapsed": true
   },
   "outputs": [],
   "source": [
    "ppn_2.groupby(['DeltaExpiration']).mean()['Pinned'].plot(kind='bar', by='DeltaExpiration')"
   ]
  },
  {
   "cell_type": "code",
   "execution_count": null,
   "metadata": {
    "collapsed": true
   },
   "outputs": [],
   "source": [
    "ppn_3.groupby(['DeltaExpiration']).mean()['Pinned'].plot(kind='bar', by='DeltaExpiration')"
   ]
  },
  {
   "cell_type": "code",
   "execution_count": null,
   "metadata": {
    "collapsed": true
   },
   "outputs": [],
   "source": [
    "ppn_4.groupby(['DeltaExpiration']).mean()['Pinned'].plot(kind='bar', by='DeltaExpiration')"
   ]
  }
 ],
 "metadata": {
  "anaconda-cloud": {},
  "kernelspec": {
   "display_name": "Python [Root]",
   "language": "python",
   "name": "Python [Root]"
  },
  "language_info": {
   "codemirror_mode": {
    "name": "ipython",
    "version": 3
   },
   "file_extension": ".py",
   "mimetype": "text/x-python",
   "name": "python",
   "nbconvert_exporter": "python",
   "pygments_lexer": "ipython3",
   "version": "3.5.2"
  }
 },
 "nbformat": 4,
 "nbformat_minor": 0
}
