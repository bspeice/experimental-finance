{
 "cells": [
  {
   "cell_type": "markdown",
   "metadata": {},
   "source": [
    "# Following the Options\n",
    "\n",
    "Strategy: Buy equity when call open interest goes up (by some amount) after earnings release, and short equity when put open interest goes up after earnings release."
   ]
  },
  {
   "cell_type": "code",
   "execution_count": 4,
   "metadata": {
    "collapsed": false
   },
   "outputs": [],
   "source": [
    "import sys\n",
    "sys.path.append('../../utils/')\n",
    "\n",
    "from query import query_dataframe, get_connection\n",
    "from trading_days import TradingDay\n",
    "\n",
    "date_format = '%Y-%m-%d'"
   ]
  },
  {
   "cell_type": "code",
   "execution_count": 5,
   "metadata": {
    "collapsed": false
   },
   "outputs": [],
   "source": [
    "import pandas as pd\n",
    "\n",
    "earnings_dates = pd.read_csv('all_earnings.csv', index_col=0)\n",
    "earnings_dates['NormDate'] = pd.to_datetime(\n",
    "    earnings_dates['NormDate'],\n",
    "    #format=\"%m-%d-%Y\",\n",
    "    format='%Y-%m-%d',\n",
    "    errors='coerce'\n",
    ")\n",
    "\n",
    "earnings_dates = earnings_dates[(earnings_dates['Date'] > '2011-01-01') &\n",
    "                                (earnings_dates['Date'] < '2014-01-01')]\n",
    "earnings_dates['BeforeOpen'] = earnings_dates['BeforeOpen'].astype(bool)"
   ]
  },
  {
   "cell_type": "code",
   "execution_count": 9,
   "metadata": {
    "collapsed": false
   },
   "outputs": [],
   "source": [
    "import sqlalchemy\n",
    "earnings_dates.to_sql(\n",
    "    'bcs2149_earnings', get_connection(),\n",
    "    dtype={\n",
    "        'Date': sqlalchemy.types.DATE,\n",
    "        'NormDate': sqlalchemy.types.DATE\n",
    "    }\n",
    ")"
   ]
  },
  {
   "cell_type": "markdown",
   "metadata": {},
   "source": [
    "import pymssql\n",
    "import time\n",
    "\n",
    "query_file = open('OpenInterestShift.sql', 'r')\n",
    "base_query = query_file.read()\n",
    "\n",
    "def build_condition(ticker, earnings_date, prior_date, close_date):\n",
    "    return (\"(sn.Ticker = {ticker} AND op.Date = '{earnings_date}' AND\"\n",
    "            \" op_before.Date = '{prior_date}' AND sp_after.Date = '{close_date})'\"\n",
    "            .format(\n",
    "            ticker=ticker,\n",
    "            earnings_date=earnings_date.strftime(date_format),\n",
    "            prior_date=prior_date.strftime(date_format),\n",
    "            close_date=close_date.strftime(date_format)\n",
    "        ))\n",
    "\n",
    "def open_interest_data(row, open_seek, equity_hold):\n",
    "    ticker = row['Ticker']\n",
    "    earnings_date = row['NormDate']\n",
    "    prior_date = earnings_date - TradingDay(open_seek)\n",
    "    close_date = earnings_date + TradingDay(equity_hold)\n",
    "    \n",
    "    return build_condition(ticker, earnings_date, prior_date, close_date)\n",
    "\n",
    "datasets = [\n",
    "    #(1, 20),\n",
    "    (1, 10),\n",
    "    (1, 15),\n",
    "    (1, 30),\n",
    "    (2, 20),\n",
    "    (2, 10),\n",
    "    (2, 15),\n",
    "    (2, 30)\n",
    "]\n",
    "\n",
    "for open_seek, equity_hold in datasets:\n",
    "    print(\"Pulling data for open_seek={} and equity_hold={}\".format(\n",
    "            open_seek, equity_hold\n",
    "        ))\n",
    "    print(\"Building query...\")\n",
    "    query_conditions = [open_interest_data(row, open_seek, equity_hold)\n",
    "                        for i, row in earnings_dates.iterrows()]\n",
    "    full_query = base_query.format(conditions=' OR '.join(query_conditions))\n",
    "    print(\"Executing query...\")\n",
    "    trade_data = query_dataframe(full_query)\n",
    "    trade_data.to_csv('open_interest_{}_{}.csv'.format(\n",
    "            open_seek, equity_hold\n",
    "        ))"
   ]
  },
  {
   "cell_type": "code",
   "execution_count": null,
   "metadata": {
    "collapsed": true
   },
   "outputs": [],
   "source": []
  }
 ],
 "metadata": {
  "anaconda-cloud": {},
  "kernelspec": {
   "display_name": "Python [Root]",
   "language": "python",
   "name": "Python [Root]"
  },
  "language_info": {
   "codemirror_mode": {
    "name": "ipython",
    "version": 3
   },
   "file_extension": ".py",
   "mimetype": "text/x-python",
   "name": "python",
   "nbconvert_exporter": "python",
   "pygments_lexer": "ipython3",
   "version": "3.5.2"
  }
 },
 "nbformat": 4,
 "nbformat_minor": 0
}
